{
 "cells": [
  {
   "cell_type": "markdown",
   "metadata": {},
   "source": [
    "# 开始第二阶段的AdaLoRA微调"
   ]
  },
  {
   "cell_type": "code",
   "execution_count": 1,
   "metadata": {},
   "outputs": [],
   "source": [
    "# AutoDL官方学术资源加速\n",
    "import subprocess\n",
    "import os\n",
    "\n",
    "result = subprocess.run('bash -c \"source /etc/network_turbo && env | grep proxy\"', shell=True, capture_output=True, text=True)\n",
    "output = result.stdout\n",
    "for line in output.splitlines():\n",
    "    if '=' in line:\n",
    "        var, value = line.split('=', 1)\n",
    "        os.environ[var] = value"
   ]
  },
  {
   "cell_type": "code",
   "execution_count": 2,
   "metadata": {},
   "outputs": [],
   "source": [
    "import os\n",
    "import json\n",
    "import torch # type: ignore\n",
    "from transformers import ( # type: ignore\n",
    "    AutoModelForCausalLM,\n",
    "    AutoTokenizer,\n",
    "    TrainingArguments,\n",
    "    Trainer,\n",
    "    DataCollatorForLanguageModeling\n",
    ")\n",
    "from peft import AdaLoraConfig, get_peft_model, PeftModel # type: ignore\n",
    "from datasets import Dataset # type: ignore\n",
    "from transformers import BitsAndBytesConfig # type: ignore"
   ]
  },
  {
   "cell_type": "code",
   "execution_count": 3,
   "metadata": {},
   "outputs": [],
   "source": [
    "def load_dataset(file_path, tokenizer, max_eval_samples=1000):\n",
    "    \"\"\"加载数据集并进行预处理\"\"\"\n",
    "    with open(file_path, 'r', encoding='utf-8') as f:\n",
    "        data = json.load(f)\n",
    "\n",
    "    # 如果是验证集且指定了最大样本数，则截取部分数据\n",
    "    if 'valid.json' in file_path and max_eval_samples:\n",
    "        data = data[:max_eval_samples]\n",
    "    \n",
    "    def preprocess_function(examples):\n",
    "        return tokenizer(\n",
    "            examples['text'],\n",
    "            truncation=True,\n",
    "            max_length=512,\n",
    "            padding='max_length',\n",
    "            return_tensors=None\n",
    "        )\n",
    "    \n",
    "    dataset = Dataset.from_list([{\n",
    "        'text': f\"{item['prompt']}{item['completion']}\"\n",
    "    } for item in data])\n",
    "    \n",
    "    tokenized_dataset = dataset.map(\n",
    "        preprocess_function,\n",
    "        remove_columns=['text'],\n",
    "        desc=\"Running tokenizer on dataset\",\n",
    "    )\n",
    "    \n",
    "    return tokenized_dataset\n",
    "\n",
    "def create_model_and_tokenizer():\n",
    "    \"\"\"创建和配置模型与分词器\"\"\"\n",
    "    # 4bit量化配置\n",
    "    quantization_config = BitsAndBytesConfig(\n",
    "        load_in_4bit=True,\n",
    "        bnb_4bit_compute_dtype=torch.float16,\n",
    "        bnb_4bit_use_double_quant=True,\n",
    "        bnb_4bit_quant_type=\"nf4\"\n",
    "    )\n",
    "    \n",
    "    # 加载tokenizer\n",
    "    tokenizer = AutoTokenizer.from_pretrained(\n",
    "        \"google/gemma-2-9b\",\n",
    "        cache_dir=\"/root/autodl-tmp/gemma\",\n",
    "        trust_remote_code=True,\n",
    "        local_files_only=True\n",
    "    )\n",
    "    \n",
    "    # 加载第一阶段训练好的模型\n",
    "    base_model = AutoModelForCausalLM.from_pretrained(\n",
    "        \"google/gemma-2-9b\",\n",
    "        cache_dir=\"/root/autodl-tmp/gemma\",\n",
    "        device_map=\"auto\",\n",
    "        torch_dtype=torch.float16,\n",
    "        quantization_config=quantization_config,\n",
    "        local_files_only=True\n",
    "    )\n",
    "    \n",
    "    # 加载第一阶段的LoRA权重\n",
    "    # model = PeftModel.from_pretrained(\n",
    "    #     base_model,\n",
    "    #     \"../../../../../root/autodl-tmp/models/stage1/checkpoints/gemma-base-zh/checkpoint-20000\"\n",
    "    # )\n",
    "    \n",
    "    return base_model, tokenizer\n",
    "\n",
    "def create_peft_config():\n",
    "    \"\"\"创建AdaLoRA配置\"\"\"\n",
    "    return AdaLoraConfig(\n",
    "        r=64,\n",
    "        lora_alpha=32,\n",
    "        target_modules=[\"q_proj\", \"k_proj\", \"v_proj\", \"o_proj\"],\n",
    "        lora_dropout=0.05,\n",
    "        bias=\"none\",\n",
    "        task_type=\"CAUSAL_LM\",\n",
    "        inference_mode=False,\n",
    "        target_r=32,\n",
    "        beta1=0.85,\n",
    "        beta2=0.85,\n",
    "        tinit=200,\n",
    "        tfinal=1000,\n",
    "        deltaT=10,\n",
    "        # init_r=12,  # 添加初始秩\n",
    "        # orth_reg_weight=0.5,  # 添加正交正则化权重\n",
    "        # total_step=3000,  # 添加总训练步数\n",
    "    )"
   ]
  },
  {
   "cell_type": "code",
   "execution_count": 4,
   "metadata": {},
   "outputs": [],
   "source": [
    "# 添加必要的导入\n",
    "from safetensors.torch import load_file\n",
    "\n",
    "def train():\n",
    "    print(\"开始加载数据集...\")\n",
    "    _, tokenizer = create_model_and_tokenizer()\n",
    "    \n",
    "    # 加载第二阶段的数据集\n",
    "    train_dataset = load_dataset(\"../prepare_datasets/task_stage_data/train.json\", tokenizer)\n",
    "    eval_dataset = load_dataset(\"../prepare_datasets/task_stage_data/valid.json\", tokenizer)\n",
    "    \n",
    "    print(\"创建模型...\")\n",
    "    model, _ = create_model_and_tokenizer()\n",
    "    \n",
    "    print(\"应用AdaLoRA配置...\")\n",
    "    peft_config = create_peft_config()\n",
    "    model = get_peft_model(model, peft_config)\n",
    "\n",
    "    # 设置adapter名称\n",
    "    model.active_adapter = \"default\"\n",
    "\n",
    "    print(\"加载第一阶段LoRA权重...\")\n",
    "    # 只加载adapter_model.safetensors中的权重\n",
    "    state_dict = load_file(\"../../../../../root/autodl-tmp/models/stage1/checkpoints/gemma-base-zh/checkpoint-20000/adapter_model.safetensors\")\n",
    "    model.load_state_dict(state_dict, strict=False)\n",
    "    \n",
    "    model.print_trainable_parameters()\n",
    "    \n",
    "    # 创建训练参数\n",
    "    training_args = TrainingArguments(\n",
    "        output_dir=\"../../../../../root/autodl-tmp/models/stage2/checkpoints/gemma-task-zh\",\n",
    "        learning_rate=1e-4,  # 降低学习率\n",
    "        num_train_epochs=3,  # 减少训练轮数\n",
    "        per_device_train_batch_size=2,\n",
    "        per_device_eval_batch_size=4,\n",
    "        gradient_accumulation_steps=4,\n",
    "        warmup_steps=100,\n",
    "        logging_steps=100,\n",
    "        save_steps=500,\n",
    "        evaluation_strategy=\"steps\",\n",
    "        eval_steps=500,\n",
    "        fp16=True,\n",
    "        optim=\"paged_adamw_32bit\",\n",
    "        lr_scheduler_type=\"cosine\",\n",
    "        report_to=\"tensorboard\",\n",
    "        remove_unused_columns=False,\n",
    "    )\n",
    "    \n",
    "    data_collator = DataCollatorForLanguageModeling(\n",
    "        tokenizer=tokenizer, \n",
    "        mlm=False,\n",
    "    )\n",
    "\n",
    "    trainer = Trainer(\n",
    "        model=model,\n",
    "        args=training_args,\n",
    "        train_dataset=train_dataset,\n",
    "        eval_dataset=eval_dataset,\n",
    "        data_collator=data_collator,\n",
    "    )\n",
    "    \n",
    "    print(\"开始训练...\")\n",
    "    trainer.train()\n",
    "    \n",
    "    print(\"保存模型...\")\n",
    "    trainer.save_model(\"../../../../../root/autodl-tmp/models/stage2/gemma-task-zh-final\")"
   ]
  },
  {
   "cell_type": "code",
   "execution_count": 5,
   "metadata": {},
   "outputs": [
    {
     "name": "stdout",
     "output_type": "stream",
     "text": [
      "开始加载数据集...\n"
     ]
    },
    {
     "data": {
      "application/vnd.jupyter.widget-view+json": {
       "model_id": "e8e05e5c417f4b879d34260b88f5e608",
       "version_major": 2,
       "version_minor": 0
      },
      "text/plain": [
       "Loading checkpoint shards:   0%|          | 0/8 [00:00<?, ?it/s]"
      ]
     },
     "metadata": {},
     "output_type": "display_data"
    },
    {
     "data": {
      "application/vnd.jupyter.widget-view+json": {
       "model_id": "77f48c4c6a144e1797140483c4d4df3a",
       "version_major": 2,
       "version_minor": 0
      },
      "text/plain": [
       "Running tokenizer on dataset:   0%|          | 0/64000 [00:00<?, ? examples/s]"
      ]
     },
     "metadata": {},
     "output_type": "display_data"
    },
    {
     "data": {
      "application/vnd.jupyter.widget-view+json": {
       "model_id": "f70f427d23ba44c58fda9d3f7b7263a8",
       "version_major": 2,
       "version_minor": 0
      },
      "text/plain": [
       "Running tokenizer on dataset:   0%|          | 0/1000 [00:00<?, ? examples/s]"
      ]
     },
     "metadata": {},
     "output_type": "display_data"
    },
    {
     "name": "stdout",
     "output_type": "stream",
     "text": [
      "创建模型...\n"
     ]
    },
    {
     "data": {
      "application/vnd.jupyter.widget-view+json": {
       "model_id": "6f2b063f95e043779b9336fb1caf58d0",
       "version_major": 2,
       "version_minor": 0
      },
      "text/plain": [
       "Loading checkpoint shards:   0%|          | 0/8 [00:00<?, ?it/s]"
      ]
     },
     "metadata": {},
     "output_type": "display_data"
    },
    {
     "name": "stdout",
     "output_type": "stream",
     "text": [
      "应用AdaLoRA配置...\n"
     ]
    },
    {
     "name": "stderr",
     "output_type": "stream",
     "text": [
      "/root/miniconda3/envs/Gemma/lib/python3.12/site-packages/peft/tuners/adalora/config.py:78: UserWarning: Note that `r` is not used in AdaLora and will be ignored.If you intended to set the initial rank, use `init_r` instead.\n",
      "  warnings.warn(\n"
     ]
    },
    {
     "name": "stdout",
     "output_type": "stream",
     "text": [
      "加载第一阶段LoRA权重...\n",
      "trainable params: 13,420,512 || all params: 9,255,126,664 || trainable%: 0.1450\n",
      "开始训练...\n"
     ]
    },
    {
     "name": "stderr",
     "output_type": "stream",
     "text": [
      "/root/miniconda3/envs/Gemma/lib/python3.12/site-packages/transformers/training_args.py:1575: FutureWarning: `evaluation_strategy` is deprecated and will be removed in version 4.46 of 🤗 Transformers. Use `eval_strategy` instead\n",
      "  warnings.warn(\n"
     ]
    },
    {
     "data": {
      "text/html": [
       "\n",
       "    <div>\n",
       "      \n",
       "      <progress value='8' max='24000' style='width:300px; height:20px; vertical-align: middle;'></progress>\n",
       "      [    8/24000 00:12 < 14:00:24, 0.48 it/s, Epoch 0.00/3]\n",
       "    </div>\n",
       "    <table border=\"1\" class=\"dataframe\">\n",
       "  <thead>\n",
       " <tr style=\"text-align: left;\">\n",
       "      <th>Step</th>\n",
       "      <th>Training Loss</th>\n",
       "      <th>Validation Loss</th>\n",
       "    </tr>\n",
       "  </thead>\n",
       "  <tbody>\n",
       "  </tbody>\n",
       "</table><p>"
      ],
      "text/plain": [
       "<IPython.core.display.HTML object>"
      ]
     },
     "metadata": {},
     "output_type": "display_data"
    }
   ],
   "source": [
    "if __name__ == \"__main__\":\n",
    "    train()"
   ]
  },
  {
   "cell_type": "code",
   "execution_count": null,
   "metadata": {},
   "outputs": [],
   "source": []
  },
  {
   "cell_type": "code",
   "execution_count": null,
   "metadata": {},
   "outputs": [],
   "source": []
  },
  {
   "cell_type": "code",
   "execution_count": null,
   "metadata": {},
   "outputs": [],
   "source": []
  },
  {
   "cell_type": "markdown",
   "metadata": {},
   "source": [
    "# 加载微调好的第二阶段的模型"
   ]
  },
  {
   "cell_type": "code",
   "execution_count": null,
   "metadata": {},
   "outputs": [],
   "source": [
    "# import torch\n",
    "# from transformers import AutoModelForCausalLM, AutoTokenizer\n",
    "# from peft import PeftModel\n",
    "# from transformers import BitsAndBytesConfig"
   ]
  },
  {
   "cell_type": "code",
   "execution_count": null,
   "metadata": {},
   "outputs": [],
   "source": [
    "# def load_finetuned_model():\n",
    "#     \"\"\"加载第二阶段微调后的模型和tokenizer\"\"\"\n",
    "    \n",
    "#     # 4bit量化配置\n",
    "#     quantization_config = BitsAndBytesConfig(\n",
    "#         load_in_4bit=True,\n",
    "#         bnb_4bit_compute_dtype=torch.float16,\n",
    "#         bnb_4bit_use_double_quant=True,\n",
    "#         bnb_4bit_quant_type=\"nf4\"\n",
    "#     )\n",
    "    \n",
    "#     # 加载tokenizer\n",
    "#     tokenizer = AutoTokenizer.from_pretrained(\n",
    "#         \"google/gemma-2-9b\",\n",
    "#         cache_dir=\"/root/autodl-tmp/gemma\",\n",
    "#         trust_remote_code=True,\n",
    "#         local_files_only=True\n",
    "#     )\n",
    "    \n",
    "#     # 加载基础模型\n",
    "#     base_model = AutoModelForCausalLM.from_pretrained(\n",
    "#         \"google/gemma-2-9b\",\n",
    "#         cache_dir=\"/root/autodl-tmp/gemma\",\n",
    "#         device_map=\"auto\",\n",
    "#         torch_dtype=torch.float16,\n",
    "#         quantization_config=quantization_config,\n",
    "#         local_files_only=True\n",
    "#     )\n",
    "    \n",
    "#     # 加载第二阶段微调的LoRA权重\n",
    "#     model = PeftModel.from_pretrained(\n",
    "#         base_model,\n",
    "#         \"/root/autodl-tmp/models/stage2/gemma-task-zh-final\"\n",
    "#     )\n",
    "#     # 直接加载第二阶段的权重即可\n",
    "    \n",
    "#     # 设置为评估模式\n",
    "#     model.eval()\n",
    "    \n",
    "#     return model, tokenizer\n",
    "\n",
    "# def generate_response(model, tokenizer, prompt, max_length=512):\n",
    "#     \"\"\"使用模型生成回复\"\"\"\n",
    "    \n",
    "#     # 格式化输入\n",
    "#     user_prompt = f\"<start_of_turn>user\\n{prompt}\\n<end_of_turn><eos>\\n\"\n",
    "    \n",
    "#     # 编码输入\n",
    "#     inputs = tokenizer(user_prompt, return_tensors=\"pt\").to(model.device)\n",
    "    \n",
    "#     # 生成回复\n",
    "#     with torch.no_grad():\n",
    "#         outputs = model.generate(\n",
    "#             **inputs,\n",
    "#             max_new_tokens=max_length,\n",
    "#             temperature=0.7,\n",
    "#             top_p=0.95,\n",
    "#             do_sample=True,\n",
    "#             repetition_penalty=1.1\n",
    "#         )\n",
    "    \n",
    "#     # 解码输出\n",
    "#     response = tokenizer.decode(outputs[0], skip_special_tokens=True)\n",
    "    \n",
    "#     # 提取模型回复部分\n",
    "#     response = response.split(\"<start_of_turn>model\\n\")[-1].split(\"\\n<end_of_turn>\")[0]\n",
    "    \n",
    "#     return response"
   ]
  },
  {
   "cell_type": "code",
   "execution_count": null,
   "metadata": {},
   "outputs": [],
   "source": [
    "# # 使用示例\n",
    "# if __name__ == \"__main__\":\n",
    "#     print(\"加载模型...\")\n",
    "#     model, tokenizer = load_finetuned_model()\n",
    "    \n",
    "#     # 测试一些示例\n",
    "#     test_prompts = [\n",
    "#         \"请将以下中文翻译成英文：今天天气真好。\",\n",
    "#         \"请讲一个关于勇气的短故事。\",\n",
    "#         \"解释一下什么是人工智能？\"\n",
    "#     ]\n",
    "    \n",
    "#     print(\"\\n开始生成回复...\")\n",
    "#     for prompt in test_prompts:\n",
    "#         print(f\"\\n提问: {prompt}\")\n",
    "#         response = generate_response(model, tokenizer, prompt)\n",
    "#         print(f\"回答: {response}\")"
   ]
  },
  {
   "cell_type": "code",
   "execution_count": null,
   "metadata": {},
   "outputs": [],
   "source": []
  },
  {
   "cell_type": "code",
   "execution_count": null,
   "metadata": {},
   "outputs": [],
   "source": []
  }
 ],
 "metadata": {
  "kernelspec": {
   "display_name": "Gemma",
   "language": "python",
   "name": "python3"
  },
  "language_info": {
   "codemirror_mode": {
    "name": "ipython",
    "version": 3
   },
   "file_extension": ".py",
   "mimetype": "text/x-python",
   "name": "python",
   "nbconvert_exporter": "python",
   "pygments_lexer": "ipython3",
   "version": "3.12.7"
  }
 },
 "nbformat": 4,
 "nbformat_minor": 2
}
