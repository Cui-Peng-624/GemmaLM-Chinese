{
 "cells": [
  {
   "cell_type": "markdown",
   "metadata": {},
   "source": [
    "### 1. DPO"
   ]
  },
  {
   "cell_type": "code",
   "execution_count": 1,
   "metadata": {},
   "outputs": [],
   "source": [
    "import sys\n",
    "import os\n",
    "\n",
    "# 添加项目根目录到Python路径\n",
    "project_root = \"/home/cuipeng/Gemma\"\n",
    "sys.path.append(project_root)\n",
    "\n",
    "# 导入必要模块\n",
    "from src.core.model.model_initializer import initialize_model_and_tokenizer\n",
    "from src.core.utils.model_utils import generate_response, apply_chat_template"
   ]
  },
  {
   "cell_type": "code",
   "execution_count": 2,
   "metadata": {},
   "outputs": [],
   "source": [
    "import torch\n",
    "from datasets import load_dataset\n",
    "from trl import DPOTrainer, DPOConfig # type: ignore\n",
    "from transformers import TrainingArguments\n",
    "from typing import Dict, List"
   ]
  },
  {
   "cell_type": "code",
   "execution_count": 3,
   "metadata": {},
   "outputs": [],
   "source": [
    "def prepare_dpo_dataset(\n",
    "    train_file: str = \"../data_preparation/ceval-exam/train_data.json\",\n",
    "    val_file: str = \"../data_preparation/ceval-exam/val_data.json\"\n",
    ") -> Dict:\n",
    "    \"\"\"\n",
    "    准备DPO训练所需的数据集\n",
    "    \n",
    "    Args:\n",
    "        train_file: 训练集文件路径\n",
    "        val_file: 验证集文件路径\n",
    "    Returns:\n",
    "        包含处理后数据集的字典\n",
    "    \"\"\"\n",
    "    # 直接读取JSON文件\n",
    "    import json\n",
    "    \n",
    "    # 加载训练集\n",
    "    with open(train_file, 'r', encoding='utf-8') as f:\n",
    "        train_data = json.load(f)\n",
    "    \n",
    "    # 加载验证集\n",
    "    with open(val_file, 'r', encoding='utf-8') as f:\n",
    "        val_data = json.load(f)\n",
    "    \n",
    "    def process_function(examples):\n",
    "        return {\n",
    "            \"prompt\": examples[\"prompt\"],\n",
    "            \"chosen\": examples[\"extracted\"], \n",
    "            \"rejected\": examples[\"model_response\"],  # 模型的实际回答作为rejected response\n",
    "        }\n",
    "    \n",
    "    # print(type(train_dataset), train_dataset) # <class 'datasets.arrow_dataset.Dataset'> Dataset({features: ['data'], num_rows: 1107})\n",
    "\n",
    "    # 处理数据集\n",
    "    # 转换为Dataset对象\n",
    "    from datasets import Dataset\n",
    "    train_dataset = Dataset.from_list(train_data[\"data\"]).map(process_function)\n",
    "    eval_dataset = Dataset.from_list(val_data[\"data\"]).map(process_function)\n",
    "    # train_dataset = train_dataset.map(process_function)\n",
    "    # eval_dataset = eval_dataset.map(process_function)\n",
    "    \n",
    "    return {\n",
    "        \"train_dataset\": train_dataset,\n",
    "        \"eval_dataset\": eval_dataset\n",
    "    }"
   ]
  },
  {
   "cell_type": "code",
   "execution_count": 4,
   "metadata": {},
   "outputs": [],
   "source": [
    "def train_with_dpo(\n",
    "    model,\n",
    "    tokenizer,\n",
    "    train_file: str = \"../data_preparation/ceval-exam/train_data.json\",\n",
    "    val_file: str = \"../data_preparation/ceval-exam/val_data.json\",\n",
    "    output_dir: str = \"../../../../../../../../../../root/autodl-tmp/models/dpo_finetuned\",\n",
    "    batch_size: int = 2,\n",
    "    gradient_accumulation_steps: int = 4,\n",
    "    num_train_epochs: int = 5,\n",
    "    learning_rate: float = 5e-5,\n",
    ") -> None:\n",
    "    \"\"\"\n",
    "    使用DPO方法微调模型\n",
    "    \"\"\"\n",
    "    import torch\n",
    "    \n",
    "    # 确保模型完全加载到GPU\n",
    "    device = torch.device(\"cuda\")\n",
    "    model = model.to(device)\n",
    "    \n",
    "    # 准备数据集\n",
    "    datasets = prepare_dpo_dataset(train_file, val_file)\n",
    "    \n",
    "    # 设置DPO训练参数\n",
    "    training_args = DPOConfig(\n",
    "        output_dir=output_dir,\n",
    "        num_train_epochs=num_train_epochs,\n",
    "        per_device_train_batch_size=batch_size,\n",
    "        per_device_eval_batch_size=batch_size,\n",
    "        gradient_accumulation_steps=gradient_accumulation_steps,\n",
    "        learning_rate=learning_rate,\n",
    "        remove_unused_columns=False, # remove_unused_columns：是否删除未使用的列 - 对于DPO训练很重要，因为它需要同时访问\"chosen\"和\"rejected\"两列数据\n",
    "        logging_steps=10,\n",
    "\n",
    "        # 添加保存检查点\n",
    "        save_strategy=\"steps\",\n",
    "        save_steps=69,\n",
    "        # 修改评估策略\n",
    "        evaluation_strategy=\"steps\",  # 改为按步数评估\n",
    "        eval_steps=10,  # 每69步评估一次\n",
    "\n",
    "        # 混合精度训练设置\n",
    "        fp16=False,\n",
    "        bf16=False,\n",
    "        tf32=True,\n",
    "        # 模型参数\n",
    "        max_prompt_length=512,\n",
    "        max_length=1024, # 限制了整个序列（prompt+response）的最大长度\n",
    "        # 训练优化\n",
    "        gradient_checkpointing=True, # 梯度检查点\n",
    "        optim=\"adamw_torch\", # 优化器\n",
    "        max_grad_norm=1.0, # 最大梯度范数\n",
    "        # 显存优化\n",
    "        deepspeed=None, # 深度学习加速\n",
    "        local_rank=-1, # 本地排名\n",
    "\n",
    "        # 重要：添加评估输出\n",
    "        metric_for_best_model=\"eval_loss\",\n",
    "        greater_is_better=False,\n",
    "        \n",
    "        # 确保评估正确进行\n",
    "        do_eval=True,\n",
    "        include_inputs_for_metrics=True,\n",
    "    )\n",
    "    \n",
    "    print(\"初始化DPO Trainer...\")\n",
    "    # 在代码开头添加导入\n",
    "    from transformers import TrainerCallback\n",
    "    class EvalLoggingCallback(TrainerCallback):\n",
    "        def on_evaluate(self, args, state, control, metrics, **kwargs):\n",
    "            print(\"\\n评估指标:\")\n",
    "            for key, value in metrics.items():\n",
    "                print(f\"{key}: {value}\")\n",
    "    # 初始化DPO Trainer        \n",
    "    dpo_trainer = DPOTrainer(\n",
    "        model=model,\n",
    "        args=training_args,\n",
    "        tokenizer=tokenizer,\n",
    "        train_dataset=datasets[\"train_dataset\"],\n",
    "        eval_dataset=datasets[\"eval_dataset\"],\n",
    "        callbacks=[EvalLoggingCallback()]\n",
    "    )\n",
    "    # dpo_trainer = DPOTrainer(\n",
    "    #     model=model,\n",
    "    #     args=training_args,\n",
    "    #     tokenizer=tokenizer,\n",
    "    #     train_dataset=datasets[\"train_dataset\"],\n",
    "    #     eval_dataset=datasets[\"eval_dataset\"],\n",
    "    # )\n",
    "    \n",
    "    # 开始训练\n",
    "    print(\"开始DPO训练...\")\n",
    "    dpo_trainer.train()\n",
    "    \n",
    "    # 保存最终模型\n",
    "    dpo_trainer.save_model(output_dir)\n",
    "    print(f\"训练完成! 模型已保存到 {output_dir}\")"
   ]
  },
  {
   "cell_type": "code",
   "execution_count": 5,
   "metadata": {},
   "outputs": [
    {
     "data": {
      "application/vnd.jupyter.widget-view+json": {
       "model_id": "f6d6071188a8405d8a82c1e3089a9fb6",
       "version_major": 2,
       "version_minor": 0
      },
      "text/plain": [
       "Loading checkpoint shards:   0%|          | 0/8 [00:00<?, ?it/s]"
      ]
     },
     "metadata": {},
     "output_type": "display_data"
    },
    {
     "name": "stderr",
     "output_type": "stream",
     "text": [
      "/root/miniconda3/envs/Gemma/lib/python3.12/site-packages/peft/tuners/adalora/config.py:78: UserWarning: Note that `r` is not used in AdaLora and will be ignored.If you intended to set the initial rank, use `init_r` instead.\n",
      "  warnings.warn(\n"
     ]
    },
    {
     "data": {
      "application/vnd.jupyter.widget-view+json": {
       "model_id": "2b451573c5fa4bd89889e51ac940c639",
       "version_major": 2,
       "version_minor": 0
      },
      "text/plain": [
       "Map:   0%|          | 0/1107 [00:00<?, ? examples/s]"
      ]
     },
     "metadata": {},
     "output_type": "display_data"
    },
    {
     "data": {
      "application/vnd.jupyter.widget-view+json": {
       "model_id": "6614a219cf13402fbf1424cfdb599759",
       "version_major": 2,
       "version_minor": 0
      },
      "text/plain": [
       "Map:   0%|          | 0/238 [00:00<?, ? examples/s]"
      ]
     },
     "metadata": {},
     "output_type": "display_data"
    },
    {
     "name": "stderr",
     "output_type": "stream",
     "text": [
      "/root/miniconda3/envs/Gemma/lib/python3.12/site-packages/transformers/training_args.py:1575: FutureWarning: `evaluation_strategy` is deprecated and will be removed in version 4.46 of 🤗 Transformers. Use `eval_strategy` instead\n",
      "  warnings.warn(\n",
      "Using `include_inputs_for_metrics` is deprecated and will be removed in version 5 of 🤗 Transformers. Please use `include_for_metrics` list argument instead.\n"
     ]
    },
    {
     "name": "stdout",
     "output_type": "stream",
     "text": [
      "初始化DPO Trainer...\n"
     ]
    },
    {
     "name": "stderr",
     "output_type": "stream",
     "text": [
      "/tmp/ipykernel_3530/1779885875.py:75: FutureWarning: `tokenizer` is deprecated and removed starting from version 0.16.0 for `DPOTrainer.__init__`. Use `processing_class` instead.\n",
      "  dpo_trainer = DPOTrainer(\n"
     ]
    },
    {
     "data": {
      "application/vnd.jupyter.widget-view+json": {
       "model_id": "9f6114246d634954b2639ec8e1dafd5c",
       "version_major": 2,
       "version_minor": 0
      },
      "text/plain": [
       "Extracting prompt from train dataset:   0%|          | 0/1107 [00:00<?, ? examples/s]"
      ]
     },
     "metadata": {},
     "output_type": "display_data"
    },
    {
     "data": {
      "application/vnd.jupyter.widget-view+json": {
       "model_id": "1bef279313f14be0b8e044d4d114fb46",
       "version_major": 2,
       "version_minor": 0
      },
      "text/plain": [
       "Applying chat template to train dataset:   0%|          | 0/1107 [00:00<?, ? examples/s]"
      ]
     },
     "metadata": {},
     "output_type": "display_data"
    },
    {
     "data": {
      "application/vnd.jupyter.widget-view+json": {
       "model_id": "32e4655d5c9848979013fe28710f2cf2",
       "version_major": 2,
       "version_minor": 0
      },
      "text/plain": [
       "Extracting prompt from eval dataset:   0%|          | 0/238 [00:00<?, ? examples/s]"
      ]
     },
     "metadata": {},
     "output_type": "display_data"
    },
    {
     "data": {
      "application/vnd.jupyter.widget-view+json": {
       "model_id": "1d0a288e7f5545a487a75716d4763c40",
       "version_major": 2,
       "version_minor": 0
      },
      "text/plain": [
       "Applying chat template to eval dataset:   0%|          | 0/238 [00:00<?, ? examples/s]"
      ]
     },
     "metadata": {},
     "output_type": "display_data"
    },
    {
     "data": {
      "application/vnd.jupyter.widget-view+json": {
       "model_id": "54cabc0606364ad6b46fae81cbb4c1a4",
       "version_major": 2,
       "version_minor": 0
      },
      "text/plain": [
       "Tokenizing train dataset:   0%|          | 0/1107 [00:00<?, ? examples/s]"
      ]
     },
     "metadata": {},
     "output_type": "display_data"
    },
    {
     "data": {
      "application/vnd.jupyter.widget-view+json": {
       "model_id": "0017eb122860438e9e2f3e520bb66109",
       "version_major": 2,
       "version_minor": 0
      },
      "text/plain": [
       "Tokenizing eval dataset:   0%|          | 0/238 [00:00<?, ? examples/s]"
      ]
     },
     "metadata": {},
     "output_type": "display_data"
    },
    {
     "name": "stderr",
     "output_type": "stream",
     "text": [
      "`use_cache=True` is incompatible with gradient checkpointing. Setting `use_cache=False`.\n"
     ]
    },
    {
     "name": "stdout",
     "output_type": "stream",
     "text": [
      "开始DPO训练...\n"
     ]
    },
    {
     "name": "stderr",
     "output_type": "stream",
     "text": [
      "/root/miniconda3/envs/Gemma/lib/python3.12/site-packages/torch/utils/checkpoint.py:87: UserWarning: None of the inputs have requires_grad=True. Gradients will be None\n",
      "  warnings.warn(\n"
     ]
    },
    {
     "data": {
      "text/html": [
       "\n",
       "    <div>\n",
       "      \n",
       "      <progress value='11' max='690' style='width:300px; height:20px; vertical-align: middle;'></progress>\n",
       "      [ 11/690 00:20 < 25:32, 0.44 it/s, Epoch 0.07/5]\n",
       "    </div>\n",
       "    <table border=\"1\" class=\"dataframe\">\n",
       "  <thead>\n",
       " <tr style=\"text-align: left;\">\n",
       "      <th>Step</th>\n",
       "      <th>Training Loss</th>\n",
       "      <th>Validation Loss</th>\n",
       "    </tr>\n",
       "  </thead>\n",
       "  <tbody>\n",
       "  </tbody>\n",
       "</table><p>"
      ],
      "text/plain": [
       "<IPython.core.display.HTML object>"
      ]
     },
     "metadata": {},
     "output_type": "display_data"
    },
    {
     "name": "stderr",
     "output_type": "stream",
     "text": [
      "The 'batch_size' argument of HybridCache is deprecated and will be removed in v4.49. Use the more precisely named 'max_batch_size' argument instead.\n",
      "The 'batch_size' attribute of HybridCache is deprecated and will be removed in v4.49. Use the more precisely named 'self.max_batch_size' attribute instead.\n"
     ]
    },
    {
     "ename": "KeyError",
     "evalue": "'input_ids'",
     "output_type": "error",
     "traceback": [
      "\u001b[0;31m---------------------------------------------------------------------------\u001b[0m",
      "\u001b[0;31mKeyError\u001b[0m                                  Traceback (most recent call last)",
      "Cell \u001b[0;32mIn[5], line 18\u001b[0m\n\u001b[1;32m      9\u001b[0m model, tokenizer \u001b[38;5;241m=\u001b[39m initialize_model_and_tokenizer(\n\u001b[1;32m     10\u001b[0m     model_path\u001b[38;5;241m=\u001b[39mmodel_path,\n\u001b[1;32m     11\u001b[0m     cache_dir\u001b[38;5;241m=\u001b[39mcache_dir,\n\u001b[0;32m   (...)\u001b[0m\n\u001b[1;32m     14\u001b[0m     device_map \u001b[38;5;241m=\u001b[39m \u001b[38;5;124m\"\u001b[39m\u001b[38;5;124mcuda:0\u001b[39m\u001b[38;5;124m\"\u001b[39m\n\u001b[1;32m     15\u001b[0m )\n\u001b[1;32m     17\u001b[0m \u001b[38;5;66;03m# 开始DPO训练\u001b[39;00m\n\u001b[0;32m---> 18\u001b[0m train_with_dpo(model, tokenizer)\n",
      "Cell \u001b[0;32mIn[4], line 93\u001b[0m, in \u001b[0;36mtrain_with_dpo\u001b[0;34m(model, tokenizer, train_file, val_file, output_dir, batch_size, gradient_accumulation_steps, num_train_epochs, learning_rate)\u001b[0m\n\u001b[1;32m     83\u001b[0m \u001b[38;5;66;03m# dpo_trainer = DPOTrainer(\u001b[39;00m\n\u001b[1;32m     84\u001b[0m \u001b[38;5;66;03m#     model=model,\u001b[39;00m\n\u001b[1;32m     85\u001b[0m \u001b[38;5;66;03m#     args=training_args,\u001b[39;00m\n\u001b[0;32m   (...)\u001b[0m\n\u001b[1;32m     90\u001b[0m \n\u001b[1;32m     91\u001b[0m \u001b[38;5;66;03m# 开始训练\u001b[39;00m\n\u001b[1;32m     92\u001b[0m \u001b[38;5;28mprint\u001b[39m(\u001b[38;5;124m\"\u001b[39m\u001b[38;5;124m开始DPO训练...\u001b[39m\u001b[38;5;124m\"\u001b[39m)\n\u001b[0;32m---> 93\u001b[0m dpo_trainer\u001b[38;5;241m.\u001b[39mtrain()\n\u001b[1;32m     95\u001b[0m \u001b[38;5;66;03m# 保存最终模型\u001b[39;00m\n\u001b[1;32m     96\u001b[0m dpo_trainer\u001b[38;5;241m.\u001b[39msave_model(output_dir)\n",
      "File \u001b[0;32m~/miniconda3/envs/Gemma/lib/python3.12/site-packages/transformers/trainer.py:2164\u001b[0m, in \u001b[0;36mTrainer.train\u001b[0;34m(self, resume_from_checkpoint, trial, ignore_keys_for_eval, **kwargs)\u001b[0m\n\u001b[1;32m   2162\u001b[0m         hf_hub_utils\u001b[38;5;241m.\u001b[39menable_progress_bars()\n\u001b[1;32m   2163\u001b[0m \u001b[38;5;28;01melse\u001b[39;00m:\n\u001b[0;32m-> 2164\u001b[0m     \u001b[38;5;28;01mreturn\u001b[39;00m inner_training_loop(\n\u001b[1;32m   2165\u001b[0m         args\u001b[38;5;241m=\u001b[39margs,\n\u001b[1;32m   2166\u001b[0m         resume_from_checkpoint\u001b[38;5;241m=\u001b[39mresume_from_checkpoint,\n\u001b[1;32m   2167\u001b[0m         trial\u001b[38;5;241m=\u001b[39mtrial,\n\u001b[1;32m   2168\u001b[0m         ignore_keys_for_eval\u001b[38;5;241m=\u001b[39mignore_keys_for_eval,\n\u001b[1;32m   2169\u001b[0m     )\n",
      "File \u001b[0;32m~/miniconda3/envs/Gemma/lib/python3.12/site-packages/transformers/trainer.py:2589\u001b[0m, in \u001b[0;36mTrainer._inner_training_loop\u001b[0;34m(self, batch_size, args, resume_from_checkpoint, trial, ignore_keys_for_eval)\u001b[0m\n\u001b[1;32m   2587\u001b[0m     \u001b[38;5;28mself\u001b[39m\u001b[38;5;241m.\u001b[39mstate\u001b[38;5;241m.\u001b[39mepoch \u001b[38;5;241m=\u001b[39m epoch \u001b[38;5;241m+\u001b[39m (step \u001b[38;5;241m+\u001b[39m \u001b[38;5;241m1\u001b[39m \u001b[38;5;241m+\u001b[39m steps_skipped) \u001b[38;5;241m/\u001b[39m steps_in_epoch\n\u001b[1;32m   2588\u001b[0m     \u001b[38;5;28mself\u001b[39m\u001b[38;5;241m.\u001b[39mcontrol \u001b[38;5;241m=\u001b[39m \u001b[38;5;28mself\u001b[39m\u001b[38;5;241m.\u001b[39mcallback_handler\u001b[38;5;241m.\u001b[39mon_step_end(args, \u001b[38;5;28mself\u001b[39m\u001b[38;5;241m.\u001b[39mstate, \u001b[38;5;28mself\u001b[39m\u001b[38;5;241m.\u001b[39mcontrol)\n\u001b[0;32m-> 2589\u001b[0m     \u001b[38;5;28mself\u001b[39m\u001b[38;5;241m.\u001b[39m_maybe_log_save_evaluate(\n\u001b[1;32m   2590\u001b[0m         tr_loss, grad_norm, model, trial, epoch, ignore_keys_for_eval, start_time\n\u001b[1;32m   2591\u001b[0m     )\n\u001b[1;32m   2592\u001b[0m \u001b[38;5;28;01melse\u001b[39;00m:\n\u001b[1;32m   2593\u001b[0m     \u001b[38;5;28mself\u001b[39m\u001b[38;5;241m.\u001b[39mcontrol \u001b[38;5;241m=\u001b[39m \u001b[38;5;28mself\u001b[39m\u001b[38;5;241m.\u001b[39mcallback_handler\u001b[38;5;241m.\u001b[39mon_substep_end(args, \u001b[38;5;28mself\u001b[39m\u001b[38;5;241m.\u001b[39mstate, \u001b[38;5;28mself\u001b[39m\u001b[38;5;241m.\u001b[39mcontrol)\n",
      "File \u001b[0;32m~/miniconda3/envs/Gemma/lib/python3.12/site-packages/transformers/trainer.py:3047\u001b[0m, in \u001b[0;36mTrainer._maybe_log_save_evaluate\u001b[0;34m(self, tr_loss, grad_norm, model, trial, epoch, ignore_keys_for_eval, start_time)\u001b[0m\n\u001b[1;32m   3045\u001b[0m metrics \u001b[38;5;241m=\u001b[39m \u001b[38;5;28;01mNone\u001b[39;00m\n\u001b[1;32m   3046\u001b[0m \u001b[38;5;28;01mif\u001b[39;00m \u001b[38;5;28mself\u001b[39m\u001b[38;5;241m.\u001b[39mcontrol\u001b[38;5;241m.\u001b[39mshould_evaluate:\n\u001b[0;32m-> 3047\u001b[0m     metrics \u001b[38;5;241m=\u001b[39m \u001b[38;5;28mself\u001b[39m\u001b[38;5;241m.\u001b[39m_evaluate(trial, ignore_keys_for_eval)\n\u001b[1;32m   3048\u001b[0m     is_new_best_metric \u001b[38;5;241m=\u001b[39m \u001b[38;5;28mself\u001b[39m\u001b[38;5;241m.\u001b[39m_determine_best_metric(metrics\u001b[38;5;241m=\u001b[39mmetrics, trial\u001b[38;5;241m=\u001b[39mtrial)\n\u001b[1;32m   3050\u001b[0m     \u001b[38;5;28;01mif\u001b[39;00m \u001b[38;5;28mself\u001b[39m\u001b[38;5;241m.\u001b[39margs\u001b[38;5;241m.\u001b[39msave_strategy \u001b[38;5;241m==\u001b[39m SaveStrategy\u001b[38;5;241m.\u001b[39mBEST:\n",
      "File \u001b[0;32m~/miniconda3/envs/Gemma/lib/python3.12/site-packages/transformers/trainer.py:3001\u001b[0m, in \u001b[0;36mTrainer._evaluate\u001b[0;34m(self, trial, ignore_keys_for_eval, skip_scheduler)\u001b[0m\n\u001b[1;32m   3000\u001b[0m \u001b[38;5;28;01mdef\u001b[39;00m \u001b[38;5;21m_evaluate\u001b[39m(\u001b[38;5;28mself\u001b[39m, trial, ignore_keys_for_eval, skip_scheduler\u001b[38;5;241m=\u001b[39m\u001b[38;5;28;01mFalse\u001b[39;00m):\n\u001b[0;32m-> 3001\u001b[0m     metrics \u001b[38;5;241m=\u001b[39m \u001b[38;5;28mself\u001b[39m\u001b[38;5;241m.\u001b[39mevaluate(ignore_keys\u001b[38;5;241m=\u001b[39mignore_keys_for_eval)\n\u001b[1;32m   3002\u001b[0m     \u001b[38;5;28mself\u001b[39m\u001b[38;5;241m.\u001b[39m_report_to_hp_search(trial, \u001b[38;5;28mself\u001b[39m\u001b[38;5;241m.\u001b[39mstate\u001b[38;5;241m.\u001b[39mglobal_step, metrics)\n\u001b[1;32m   3004\u001b[0m     \u001b[38;5;66;03m# Run delayed LR scheduler now that metrics are populated\u001b[39;00m\n",
      "File \u001b[0;32m~/miniconda3/envs/Gemma/lib/python3.12/site-packages/transformers/trainer.py:4051\u001b[0m, in \u001b[0;36mTrainer.evaluate\u001b[0;34m(self, eval_dataset, ignore_keys, metric_key_prefix)\u001b[0m\n\u001b[1;32m   4048\u001b[0m start_time \u001b[38;5;241m=\u001b[39m time\u001b[38;5;241m.\u001b[39mtime()\n\u001b[1;32m   4050\u001b[0m eval_loop \u001b[38;5;241m=\u001b[39m \u001b[38;5;28mself\u001b[39m\u001b[38;5;241m.\u001b[39mprediction_loop \u001b[38;5;28;01mif\u001b[39;00m \u001b[38;5;28mself\u001b[39m\u001b[38;5;241m.\u001b[39margs\u001b[38;5;241m.\u001b[39muse_legacy_prediction_loop \u001b[38;5;28;01melse\u001b[39;00m \u001b[38;5;28mself\u001b[39m\u001b[38;5;241m.\u001b[39mevaluation_loop\n\u001b[0;32m-> 4051\u001b[0m output \u001b[38;5;241m=\u001b[39m eval_loop(\n\u001b[1;32m   4052\u001b[0m     eval_dataloader,\n\u001b[1;32m   4053\u001b[0m     description\u001b[38;5;241m=\u001b[39m\u001b[38;5;124m\"\u001b[39m\u001b[38;5;124mEvaluation\u001b[39m\u001b[38;5;124m\"\u001b[39m,\n\u001b[1;32m   4054\u001b[0m     \u001b[38;5;66;03m# No point gathering the predictions if there are no metrics, otherwise we defer to\u001b[39;00m\n\u001b[1;32m   4055\u001b[0m     \u001b[38;5;66;03m# self.args.prediction_loss_only\u001b[39;00m\n\u001b[1;32m   4056\u001b[0m     prediction_loss_only\u001b[38;5;241m=\u001b[39m\u001b[38;5;28;01mTrue\u001b[39;00m \u001b[38;5;28;01mif\u001b[39;00m \u001b[38;5;28mself\u001b[39m\u001b[38;5;241m.\u001b[39mcompute_metrics \u001b[38;5;129;01mis\u001b[39;00m \u001b[38;5;28;01mNone\u001b[39;00m \u001b[38;5;28;01melse\u001b[39;00m \u001b[38;5;28;01mNone\u001b[39;00m,\n\u001b[1;32m   4057\u001b[0m     ignore_keys\u001b[38;5;241m=\u001b[39mignore_keys,\n\u001b[1;32m   4058\u001b[0m     metric_key_prefix\u001b[38;5;241m=\u001b[39mmetric_key_prefix,\n\u001b[1;32m   4059\u001b[0m )\n\u001b[1;32m   4061\u001b[0m total_batch_size \u001b[38;5;241m=\u001b[39m \u001b[38;5;28mself\u001b[39m\u001b[38;5;241m.\u001b[39margs\u001b[38;5;241m.\u001b[39meval_batch_size \u001b[38;5;241m*\u001b[39m \u001b[38;5;28mself\u001b[39m\u001b[38;5;241m.\u001b[39margs\u001b[38;5;241m.\u001b[39mworld_size\n\u001b[1;32m   4062\u001b[0m \u001b[38;5;28;01mif\u001b[39;00m \u001b[38;5;124mf\u001b[39m\u001b[38;5;124m\"\u001b[39m\u001b[38;5;132;01m{\u001b[39;00mmetric_key_prefix\u001b[38;5;132;01m}\u001b[39;00m\u001b[38;5;124m_jit_compilation_time\u001b[39m\u001b[38;5;124m\"\u001b[39m \u001b[38;5;129;01min\u001b[39;00m output\u001b[38;5;241m.\u001b[39mmetrics:\n",
      "File \u001b[0;32m~/miniconda3/envs/Gemma/lib/python3.12/site-packages/trl/trainer/dpo_trainer.py:1408\u001b[0m, in \u001b[0;36mDPOTrainer.evaluation_loop\u001b[0;34m(self, dataloader, description, prediction_loss_only, ignore_keys, metric_key_prefix)\u001b[0m\n\u001b[1;32m   1405\u001b[0m     \u001b[38;5;28mself\u001b[39m\u001b[38;5;241m.\u001b[39mstate\u001b[38;5;241m.\u001b[39mlog_history\u001b[38;5;241m.\u001b[39mpop()\n\u001b[1;32m   1407\u001b[0m \u001b[38;5;66;03m# Base evaluation\u001b[39;00m\n\u001b[0;32m-> 1408\u001b[0m initial_output \u001b[38;5;241m=\u001b[39m \u001b[38;5;28msuper\u001b[39m()\u001b[38;5;241m.\u001b[39mevaluation_loop(\n\u001b[1;32m   1409\u001b[0m     dataloader, description, prediction_loss_only, ignore_keys, metric_key_prefix\n\u001b[1;32m   1410\u001b[0m )\n\u001b[1;32m   1412\u001b[0m \u001b[38;5;28;01mreturn\u001b[39;00m initial_output\n",
      "File \u001b[0;32m~/miniconda3/envs/Gemma/lib/python3.12/site-packages/transformers/trainer.py:4248\u001b[0m, in \u001b[0;36mTrainer.evaluation_loop\u001b[0;34m(self, dataloader, description, prediction_loss_only, ignore_keys, metric_key_prefix)\u001b[0m\n\u001b[1;32m   4245\u001b[0m losses, logits, labels \u001b[38;5;241m=\u001b[39m \u001b[38;5;28mself\u001b[39m\u001b[38;5;241m.\u001b[39mprediction_step(model, inputs, prediction_loss_only, ignore_keys\u001b[38;5;241m=\u001b[39mignore_keys)\n\u001b[1;32m   4246\u001b[0m main_input_name \u001b[38;5;241m=\u001b[39m \u001b[38;5;28mgetattr\u001b[39m(\u001b[38;5;28mself\u001b[39m\u001b[38;5;241m.\u001b[39mmodel, \u001b[38;5;124m\"\u001b[39m\u001b[38;5;124mmain_input_name\u001b[39m\u001b[38;5;124m\"\u001b[39m, \u001b[38;5;124m\"\u001b[39m\u001b[38;5;124minput_ids\u001b[39m\u001b[38;5;124m\"\u001b[39m)\n\u001b[1;32m   4247\u001b[0m inputs_decode \u001b[38;5;241m=\u001b[39m (\n\u001b[0;32m-> 4248\u001b[0m     \u001b[38;5;28mself\u001b[39m\u001b[38;5;241m.\u001b[39m_prepare_input(inputs[main_input_name]) \u001b[38;5;28;01mif\u001b[39;00m \u001b[38;5;124m\"\u001b[39m\u001b[38;5;124minputs\u001b[39m\u001b[38;5;124m\"\u001b[39m \u001b[38;5;129;01min\u001b[39;00m args\u001b[38;5;241m.\u001b[39minclude_for_metrics \u001b[38;5;28;01melse\u001b[39;00m \u001b[38;5;28;01mNone\u001b[39;00m\n\u001b[1;32m   4249\u001b[0m )\n\u001b[1;32m   4251\u001b[0m \u001b[38;5;28;01mif\u001b[39;00m is_torch_xla_available():\n\u001b[1;32m   4252\u001b[0m     xm\u001b[38;5;241m.\u001b[39mmark_step()\n",
      "\u001b[0;31mKeyError\u001b[0m: 'input_ids'"
     ]
    }
   ],
   "source": [
    "# 使用示例\n",
    "if __name__ == \"__main__\":\n",
    "    from transformers import AutoModelForCausalLM, AutoTokenizer\n",
    "    \n",
    "    # 加载模型和分词器\n",
    "    model_path = \"google/gemma-2-9b\"\n",
    "    cache_dir = \"/root/autodl-tmp/gemma\"\n",
    "    lora_path = \"../../../../../../../../../../../../../../root/autodl-tmp/models/stage1/checkpoints/gemma-base-zh/checkpoint-43500\"\n",
    "    model, tokenizer = initialize_model_and_tokenizer(\n",
    "        model_path=model_path,\n",
    "        cache_dir=cache_dir,\n",
    "        lora_path=lora_path,\n",
    "        use_quantization=False, # 开启量化会导致：RuntimeError: value cannot be converted to type at::Half without overflow\"\n",
    "        device_map = \"cuda:0\"\n",
    "    )\n",
    "    \n",
    "    # 开始DPO训练\n",
    "    train_with_dpo(model, tokenizer)"
   ]
  },
  {
   "cell_type": "markdown",
   "metadata": {},
   "source": [
    "### 2. 评估 - 在val数据集上遵守指令的程度"
   ]
  },
  {
   "cell_type": "code",
   "execution_count": null,
   "metadata": {},
   "outputs": [],
   "source": [
    "import sys\n",
    "import os\n",
    "\n",
    "# 添加项目根目录到Python路径\n",
    "project_root = \"/home/cuipeng/Gemma\"\n",
    "sys.path.append(project_root)\n",
    "\n",
    "# 导入必要模块\n",
    "from src.core.model.model_initializer import initialize_model_and_tokenizer\n",
    "from src.core.utils.model_utils import generate_response, apply_chat_template"
   ]
  },
  {
   "cell_type": "code",
   "execution_count": null,
   "metadata": {},
   "outputs": [],
   "source": [
    "def evaluate_model_improvement(\n",
    "    base_model_path: str,\n",
    "    dpo_model_path: str,\n",
    "    val_file: str,\n",
    "    cache_dir: str,\n",
    "    batch_size: int = 4\n",
    ") -> None:\n",
    "    \"\"\"\n",
    "    评估DPO微调前后模型的表现\n",
    "    \n",
    "    Args:\n",
    "        base_model_path: 原始模型路径\n",
    "        dpo_model_path: DPO微调后的模型路径\n",
    "        val_file: 验证集文件路径\n",
    "        cache_dir: 缓存目录\n",
    "    \"\"\"\n",
    "    import json\n",
    "    import torch\n",
    "    from transformers import AutoModelForCausalLM, AutoTokenizer\n",
    "    from tqdm import tqdm\n",
    "    \n",
    "    # 加载验证集数据\n",
    "    with open(val_file, 'r', encoding='utf-8') as f:\n",
    "        val_data = json.load(f)[\"data\"]\n",
    "    \n",
    "    results = []\n",
    "    \n",
    "    # 加载原始模型和微调后的模型\n",
    "    print(\"加载原始模型...\")\n",
    "    base_model, tokenizer = initialize_model_and_tokenizer(\n",
    "        model_path=base_model_path,\n",
    "        cache_dir=cache_dir,\n",
    "        use_quantization=False\n",
    "    )\n",
    "    \n",
    "    print(\"加载DPO微调后的模型...\")\n",
    "    dpo_model, _ = initialize_model_and_tokenizer(\n",
    "        model_path=base_model_path,\n",
    "        cache_dir=cache_dir,\n",
    "        lora_path=dpo_model_path,\n",
    "        use_quantization=False\n",
    "    )\n",
    "    \n",
    "    # 生成函数\n",
    "    def generate_answer(model, prompt):\n",
    "        inputs = tokenizer(prompt, return_tensors=\"pt\").to(\"cuda\")\n",
    "        outputs = model.generate(\n",
    "            **inputs,\n",
    "            max_new_tokens=512,\n",
    "            temperature=0.7,\n",
    "            top_p=0.95,\n",
    "            pad_token_id=tokenizer.pad_token_id,\n",
    "            eos_token_id=tokenizer.eos_token_id\n",
    "        )\n",
    "        return tokenizer.decode(outputs[0], skip_special_tokens=True)\n",
    "    \n",
    "    # 在验证集上测试两个模型\n",
    "    print(\"开始评估...\")\n",
    "    for idx, item in enumerate(tqdm(val_data[:batch_size])):  # 为了快速测试，只取batch_size个样本\n",
    "        prompt = item[\"prompt\"]\n",
    "        golden_answer = item[\"answer\"]\n",
    "        \n",
    "        # 生成两个模型的回答\n",
    "        base_answer = generate_answer(base_model, prompt)\n",
    "        dpo_answer = generate_answer(dpo_model, prompt)\n",
    "        \n",
    "        results.append({\n",
    "            \"prompt\": prompt,\n",
    "            \"golden_answer\": golden_answer,\n",
    "            \"base_model_answer\": base_answer,\n",
    "            \"dpo_model_answer\": dpo_answer\n",
    "        })\n",
    "        \n",
    "        print(f\"\\n样本 {idx + 1}:\")\n",
    "        print(f\"Prompt: {prompt}\")\n",
    "        print(f\"标准答案: {golden_answer}\")\n",
    "        print(f\"原始模型答案: {base_answer}\")\n",
    "        print(f\"DPO模型答案: {dpo_answer}\")\n",
    "        print(\"-\" * 50)\n",
    "    \n",
    "    # 保存结果\n",
    "    output_file = \"model_comparison_results.json\"\n",
    "    with open(output_file, 'w', encoding='utf-8') as f:\n",
    "        json.dump(results, f, ensure_ascii=False, indent=2)\n",
    "    \n",
    "    print(f\"评估结果已保存到 {output_file}\")"
   ]
  },
  {
   "cell_type": "code",
   "execution_count": null,
   "metadata": {},
   "outputs": [],
   "source": [
    "# 使用示例：\n",
    "if __name__ == \"__main__\":\n",
    "    base_model_path = \"google/gemma-2-9b\"\n",
    "    cache_dir = \"/root/autodl-tmp/gemma\"\n",
    "    dpo_model_path = \"../../../../../../../../../../../../root/autodl-tmp/models/dpo_finetuned/checkpoint-138\"\n",
    "    val_file = \"ceval-exam/val_data.json\"\n",
    "    \n",
    "    evaluate_model_improvement(\n",
    "        base_model_path=base_model_path,\n",
    "        dpo_model_path=dpo_model_path,\n",
    "        val_file=val_file,\n",
    "        cache_dir=cache_dir,\n",
    "        batch_size=4  # 可以调整测试样本数量\n",
    "    )"
   ]
  },
  {
   "cell_type": "code",
   "execution_count": null,
   "metadata": {},
   "outputs": [],
   "source": []
  },
  {
   "cell_type": "code",
   "execution_count": null,
   "metadata": {},
   "outputs": [],
   "source": []
  },
  {
   "cell_type": "code",
   "execution_count": null,
   "metadata": {},
   "outputs": [],
   "source": []
  }
 ],
 "metadata": {
  "kernelspec": {
   "display_name": "Gemma",
   "language": "python",
   "name": "python3"
  },
  "language_info": {
   "codemirror_mode": {
    "name": "ipython",
    "version": 3
   },
   "file_extension": ".py",
   "mimetype": "text/x-python",
   "name": "python",
   "nbconvert_exporter": "python",
   "pygments_lexer": "ipython3",
   "version": "3.12.7"
  }
 },
 "nbformat": 4,
 "nbformat_minor": 2
}
