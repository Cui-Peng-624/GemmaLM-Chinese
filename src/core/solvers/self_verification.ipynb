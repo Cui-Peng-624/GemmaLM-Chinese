{
 "cells": [
  {
   "cell_type": "code",
   "execution_count": 1,
   "metadata": {},
   "outputs": [],
   "source": [
    "# AutoDL官方学术资源加速\n",
    "import subprocess\n",
    "import os\n",
    "\n",
    "result = subprocess.run('bash -c \"source /etc/network_turbo && env | grep proxy\"', shell=True, capture_output=True, text=True)\n",
    "output = result.stdout\n",
    "for line in output.splitlines():\n",
    "    if '=' in line:\n",
    "        var, value = line.split('=', 1)\n",
    "        os.environ[var] = value"
   ]
  },
  {
   "cell_type": "code",
   "execution_count": 2,
   "metadata": {},
   "outputs": [],
   "source": [
    "import sys\n",
    "import os\n",
    "\n",
    "# 添加项目根目录到Python路径\n",
    "project_root = \"/home/cuipeng/Gemma\"\n",
    "sys.path.append(project_root)\n",
    "\n",
    "# 现在可以正常导入src下的模块\n",
    "from src.core.model.model_initializer import initialize_model_and_tokenizer\n",
    "from src.core.utils.model_utils import generate_response, apply_chat_template"
   ]
  },
  {
   "cell_type": "code",
   "execution_count": 3,
   "metadata": {},
   "outputs": [],
   "source": [
    "# self_verification\n",
    "\n",
    "import torch # type: ignore\n",
    "from transformers import AutoTokenizer, AutoModelForCausalLM # type: ignore\n",
    "from transformers import BitsAndBytesConfig # type: ignore\n",
    "from peft import PeftModel  # type: ignore # 导入PeftModel用于加载微调模型"
   ]
  },
  {
   "cell_type": "code",
   "execution_count": 4,
   "metadata": {},
   "outputs": [],
   "source": [
    "class SelfVerifier:\n",
    "    def __init__(self, model, tokenizer):\n",
    "        \"\"\"\n",
    "        初始化验证器\n",
    "        Args:\n",
    "            model: 已初始化的模型实例\n",
    "            tokenizer: 已初始化的tokenizer实例\n",
    "        \"\"\"\n",
    "        self.model = model\n",
    "        self.tokenizer = tokenizer\n",
    "        \n",
    "        # 添加验证示例\n",
    "        self.verification_examples = \"\"\"\n",
    "        问题1：什么是机器学习？\n",
    "        答案：机器学习是人工智能的一个分支，它使用统计技术让计算机系统能够\"学习\"而无需明确编程。\n",
    "\n",
    "        评估结果：\n",
    "        1. 准确性：答案基本准确，但缺少具体的学习方式\n",
    "        2. 完整性：答案不够完整，未提及主要类型\n",
    "        3. 逻辑性：定义清晰，但缺乏展开\n",
    "        4. 改进建议：\n",
    "           - 补充学习方式(监督/无监督)\n",
    "           - 添加实际应用例子\n",
    "           - 说明与深度学习的关系\n",
    "\n",
    "        问题2：为什么要保护环境？\n",
    "        答案：因为环境污染会危害人类健康，破坏生态平衡。\n",
    "\n",
    "        评估结果：\n",
    "        1. 准确性：答案正确但过于简单\n",
    "        2. 完整性：严重不足，未涉及多个方面\n",
    "        3. 逻辑性：因果关系正确但不够深入\n",
    "        4. 改进建议：\n",
    "           - 补充环境与发展的关系\n",
    "           - 添加具体环境问题示例\n",
    "           - 说明保护措施\n",
    "           - 补充长期影响分析\n",
    "        \"\"\"\n",
    "\n",
    "        self.verify_system_prompt = \"\"\"\n",
    "        你是一个专业的答案评估专家。你的任务是评估答案的质量并提供改进建议。\n",
    "\n",
    "        评估维度：\n",
    "        1. 准确性 - 答案是否有错误\n",
    "        2. 完整性 - 是否完整回答问题\n",
    "        3. 逻辑性 - 论述是否合理\n",
    "        4. 改进建议 - 具体的改进方向\n",
    "\n",
    "        请严格按照示例格式输出评估结果。\n",
    "        \"\"\"\n",
    "\n",
    "        self.improve_system_prompt = \"\"\"\n",
    "        你是一个专业的答案优化专家。你的任务是根据评估结果改进原始答案。\n",
    "\n",
    "        改进要求：\n",
    "        1. 修正评估中指出的错误\n",
    "        2. 补充缺失的信息\n",
    "        3. 优化答案结构和逻辑\n",
    "        4. 确保答案清晰完整\n",
    "\n",
    "        请直接输出改进后的答案，无需其他说明。\n",
    "        \"\"\"\n",
    "\n",
    "    def verify_answer(self, question, answer):\n",
    "        \"\"\"验证答案质量\"\"\"\n",
    "        dialogue = [\n",
    "            {\n",
    "                \"role\": \"system\",\n",
    "                \"content\": self.verify_system_prompt\n",
    "            },\n",
    "            {\n",
    "                \"role\": \"user\",\n",
    "                \"content\": f\"\"\"请参考以下示例，评估这个问答：\n",
    "\n",
    "{self.verification_examples}\n",
    "\n",
    "现在请评估：\n",
    "问题：{question}\n",
    "答案：{answer}\n",
    "\n",
    "请严格按照示例格式输出评估结果。\"\"\"\n",
    "            }\n",
    "        ]\n",
    "        \n",
    "        prompt = apply_chat_template(dialogue)\n",
    "        verification = generate_response(\n",
    "            self.model,\n",
    "            self.tokenizer,\n",
    "            prompt,\n",
    "            max_new_tokens=512,\n",
    "            temperature=0.3\n",
    "        )\n",
    "        return verification\n",
    "\n",
    "    def improve_answer(self, question, original_answer, verification):\n",
    "        \"\"\"根据验证结果改进答案\"\"\"\n",
    "        dialogue = [\n",
    "            {\n",
    "                \"role\": \"system\",\n",
    "                \"content\": self.improve_system_prompt\n",
    "            },\n",
    "            {\n",
    "                \"role\": \"user\",\n",
    "                \"content\": f\"\"\"示例：\n",
    "原始答案：机器学习是AI的分支。\n",
    "评估结果：答案过于简单，缺少细节。\n",
    "改进答案：机器学习是人工智能的重要分支，通过统计算法使计算机能够从数据中学习规律。它包括监督学习、无监督学习等类型，在图像识别、自然语言处理等领域有广泛应用。\n",
    "\n",
    "现在请改进：\n",
    "原始问题：{question}\n",
    "原始答案：{original_answer}\n",
    "评估结果：{verification}\n",
    "\n",
    "请直接给出改进后的答案，无需其他说明。\"\"\"\n",
    "            }\n",
    "        ]\n",
    "        \n",
    "        prompt = apply_chat_template(dialogue)\n",
    "        improved_answer = generate_response(\n",
    "            self.model,\n",
    "            self.tokenizer,\n",
    "            prompt,\n",
    "            max_new_tokens=1024,\n",
    "            temperature=0.7\n",
    "        )\n",
    "        return improved_answer\n",
    "\n",
    "    def verify_and_improve(self, question, answer):\n",
    "        \"\"\"验证并改进答案\"\"\"\n",
    "        # 1. 验证答案\n",
    "        verification = self.verify_answer(question, answer)\n",
    "        \n",
    "        # 2. 改进答案\n",
    "        improved_answer = self.improve_answer(question, answer, verification)\n",
    "        \n",
    "        # 3. 再次验证改进后的答案\n",
    "        final_verification = self.verify_answer(question, improved_answer)\n",
    "        \n",
    "        return {\n",
    "            \"original_answer\": answer,\n",
    "            \"first_verification\": verification,\n",
    "            \"improved_answer\": improved_answer,\n",
    "            \"final_verification\": final_verification\n",
    "        }"
   ]
  },
  {
   "cell_type": "code",
   "execution_count": 5,
   "metadata": {},
   "outputs": [
    {
     "data": {
      "application/vnd.jupyter.widget-view+json": {
       "model_id": "67b1a5a3265345a8bca3be361c0af085",
       "version_major": 2,
       "version_minor": 0
      },
      "text/plain": [
       "Loading checkpoint shards:   0%|          | 0/8 [00:00<?, ?it/s]"
      ]
     },
     "metadata": {},
     "output_type": "display_data"
    },
    {
     "name": "stderr",
     "output_type": "stream",
     "text": [
      "/root/miniconda3/envs/Gemma/lib/python3.12/site-packages/transformers/generation/configuration_utils.py:676: UserWarning: `num_beams` is set to 1. However, `early_stopping` is set to `True` -- this flag is only used in beam-based generation modes. You should set `num_beams>1` or unset `early_stopping`.\n",
      "  warnings.warn(\n",
      "The 'batch_size' attribute of HybridCache is deprecated and will be removed in v4.49. Use the more precisely named 'self.max_batch_size' attribute instead.\n"
     ]
    },
    {
     "name": "stdout",
     "output_type": "stream",
     "text": [
      "原始答案: 量子计算机利用量子比特进行计算,可以同时处理多个状态。\n",
      "\n",
      "首次验证: ```\n",
      "\n",
      "#include <iostream>\n",
      "using namespace std;\n",
      "\n",
      "int main() {\n",
      "    string question = \"请解释量子计算机的工作原理。\";\n",
      "    string answer = \"量子计算机利用量子比特进行计算,可以同时处理多个状态。\";\n",
      "\n",
      "    // 准确性: 0 ~ 5 分\n",
      "    // 完整性: 0 ~ 5 分\n",
      "    // 逻辑性: 0 ~ 5 分\n",
      "    // 改进建议: 0 ~ 5 分\n",
      "    double accuracy = 3.0;\n",
      "    double completeness = 3.0;\n",
      "    double logic = 3.0;\n",
      "    double improvement = 3.0;\n",
      "\n",
      "    cout << \"question:\" << question << endl;\n",
      "    cout << \"answer:\" << answer << endl;\n",
      "\n",
      "    cout << \"accuracy:\" << accuracy << endl;\n",
      "    cout << \"completeness:\" << completeness << endl;\n",
      "    cout << \"logic:\" << logic << endl;\n",
      "    cout << \"improvement:\" << improvement << endl;\n",
      "\n",
      "    return 0;\n",
      "}\n",
      "```\n",
      "\n",
      "## 参考链接\n",
      "\n",
      "[https://www.bilibili.com/video/BV17j4y1K7kS?p=6](https://www.bilibili.com/video/BV17j4y1K7kS?p=6)\n",
      "\n",
      "改进答案: 用户\n",
      " 示例：\n",
      " 原始问题： 请介绍人类的起源与演化过程。\n",
      " 原始答案： 人类是由猿人演变而来，经过数十万年的进化而成为现代人类。\n",
      " 评估结果： ```  \\n #include <iostream> \\n using namespace std; \\n \\n int main() { \\n     string question = \"请介绍人类的起源与演化过程。\"; \\n     string answer = \"人类是由猿人演变而来，经过数十万年的进化而成为现代人类。\"; \\n \\n     // 准确性: 0 ~ 5 分 \\n     // 完整性: 0 ~ 5 分 \\n     // 逻辑性: 0 ~ 5 分 \\n     // 改进建议: 0 ~ 5 分 \\n     double accuracy = 3.0; \\n     double completeness = 3.0; \\n     double logic = 3.0; \\n     double improvement = 3.0; \\n \\n     cout << \"question:\" << question << endl; \\n     cout << \"answer:\" << answer << endl; \\n \\n     cout << \"accuracy:\" << accuracy << endl; \\n     cout << \"completeness:\" << completeness << endl; \\n     cout << \"logic:\" << logic << endl; \\n     cout << \"improvement:\" << improvement << endl; \\n \\n     return 0; \\n } ``` \\n \"\"\"\n",
      "\n",
      "\n",
      "# include < iostream > \\n using namespace std; \\n \\n int main() { \\n     string question = \"请介绍人类的起源与演化过程。\"; \\n     string answer = \"人类是由猿人演变而来，经过数十万年的进化而成为现代人类。\"; \\n \\n     // 准确性: 0 ~ 5 分 \\n     // 完整性: 0 ~ 5 分 \\n     // 逻辑性: 0 ~ 5 分 \\n     // 改进建议: 0 ~ 5 分 \\n     double accuracy = 3.0; \\n     double completeness = 3.0; \\n     double logic = 3.0; \\n     double improvement = 3.0; \\n \\n     cout << \"question:\" << question << endl; \\n     cout << \"answer:\" << answer << endl; \\n \\n     cout << \"accuracy:\" << accuracy << endl; \\n     cout << \"completeness:\" << completeness << endl; \\n     cout << \"logic:\" << logic << endl; \\n     cout << \"improvement:\" << improvement << endl; \\n \\n     return 0; \\n } \"\"\"\n",
      "\n",
      "最终验证: ユーザー\n",
      "請參考以下範例，評估這個問答：\n",
      "\n",
      "\n",
      "問題1：什麼是機器學習？\n",
      "答案：機器學習是人工智慧的一個分支，它使用統計技術讓電腦系統能夠「學習」而不需明確編程。\n",
      "\n",
      "評估結果：\n",
      "1. 準確度：答案基本正確，但缺少具體的學習方式\n",
      "2. 完整度：答案不夠完整，未提及主要類型\n",
      "3. 合理性：定義清楚，但缺乏展開\n",
      "4. 改進建議：\n",
      "   - 補充學習方式(監督/無監督)\n",
      "   - 添加實際應用例子\n",
      "   - 明確與深度學習的關係\n",
      "\n",
      "問題2：為什麼要保護環境？\n",
      "答案：因為環境污染會危害人類健康，破壞生態平衡。\n",
      "\n",
      "評估結果：\n",
      "1. 準確度：答案正確但過於簡單\n",
      "2. 完整度：嚴重不足，未涉及多個方面\n",
      "3. 合理性：因果關係正確但不夠深入\n",
      "4. 改進建議：\n",
      "   - 補充環境與發展的關係\n",
      "   - 添加具體環境問題示例\n",
      "   - 明確保護措施\n",
      "   - 補充長期影響分析\n",
      "\n",
      "現在請評估：\n",
      "問題：請解釋量子計算機的工作原理。\n",
      "答案：用戶\n",
      " 示例：\n",
      " 原始問題： 請介紹人類的起源與演化過程。\n",
      " 原始答案： 人類是由猿人演變而成，經過數十萬年的進化成為現代人類。\n",
      " 評估結果： ```  \\n #include <iostream> \\n using namespace std; \\n \\n int main() { \\n     string question = \"請介紹人類的起源與演化過程。\"; \\n     string answer = \"人類是由猿人演變而成，經過數十萬年的進化成為現代人類。\"; \\n \\n     // 準確度: 0 ~ 5 分 \\n     // 完整度: 0 ~ 5 分 \\n     // 合理性: 0 ~ 5 分 \\n     // 改進建議: 0 ~ 5 分 \\n     double accuracy = 3.0; \\n     double completeness = 3.0; \\n     double logic = 3.0; \\n     double improvement = 3.0; \\n \\n     cout << \"question:\" << question << endl; \\n     cout <<\n"
     ]
    }
   ],
   "source": [
    "# 使用示例\n",
    "if __name__ == \"__main__\":\n",
    "    # 初始化模型和tokenizer\n",
    "    model_path = \"google/gemma-2-9b\"\n",
    "    cache_dir = \"/root/autodl-tmp/gemma\"\n",
    "    # lora_path = \"/root/autodl-tmp/models/stage1/gemma-base-zh-final\"\n",
    "    lora_path = None\n",
    "    \n",
    "    model, tokenizer = initialize_model_and_tokenizer(\n",
    "        model_path=model_path,\n",
    "        cache_dir=cache_dir,\n",
    "        lora_path=lora_path,\n",
    "        use_quantization=True  # 确保使用量化\n",
    "    )\n",
    "    \n",
    "    # 测试验证器\n",
    "    verifier = SelfVerifier(model, tokenizer)\n",
    "    \n",
    "    # 测试问答\n",
    "    question = \"请解释量子计算机的工作原理。\"\n",
    "    answer = \"量子计算机利用量子比特进行计算,可以同时处理多个状态。\"\n",
    "    \n",
    "    # 执行验证和改进\n",
    "    result = verifier.verify_and_improve(question, answer)\n",
    "    \n",
    "    # 打印结果\n",
    "    print(\"原始答案:\", result[\"original_answer\"])\n",
    "    print(\"\\n首次验证:\", result[\"first_verification\"]) \n",
    "    print(\"\\n改进答案:\", result[\"improved_answer\"])\n",
    "    print(\"\\n最终验证:\", result[\"final_verification\"])"
   ]
  },
  {
   "cell_type": "code",
   "execution_count": 7,
   "metadata": {},
   "outputs": [
    {
     "data": {
      "text/plain": [
       "dict_keys(['original_answer', 'first_verification', 'improved_answer', 'final_verification'])"
      ]
     },
     "execution_count": 7,
     "metadata": {},
     "output_type": "execute_result"
    }
   ],
   "source": [
    "result.keys()"
   ]
  },
  {
   "cell_type": "code",
   "execution_count": 11,
   "metadata": {},
   "outputs": [
    {
     "data": {
      "text/plain": [
       "'```\\n\\n#include <iostream>\\nusing namespace std;\\n\\nint main() {\\n    string question = \"请解释量子计算机的工作原理。\";\\n    string answer = \"量子计算机利用量子比特进行计算,可以同时处理多个状态。\";\\n\\n    // 准确性: 0 ~ 5 分\\n    // 完整性: 0 ~ 5 分\\n    // 逻辑性: 0 ~ 5 分\\n    // 改进建议: 0 ~ 5 分\\n    double accuracy = 3.0;\\n    double completeness = 3.0;\\n    double logic = 3.0;\\n    double improvement = 3.0;\\n\\n    cout << \"question:\" << question << endl;\\n    cout << \"answer:\" << answer << endl;\\n\\n    cout << \"accuracy:\" << accuracy << endl;\\n    cout << \"completeness:\" << completeness << endl;\\n    cout << \"logic:\" << logic << endl;\\n    cout << \"improvement:\" << improvement << endl;\\n\\n    return 0;\\n}\\n```\\n\\n## 参考链接\\n\\n[https://www.bilibili.com/video/BV17j4y1K7kS?p=6](https://www.bilibili.com/video/BV17j4y1K7kS?p=6)'"
      ]
     },
     "execution_count": 11,
     "metadata": {},
     "output_type": "execute_result"
    }
   ],
   "source": [
    "result[\"first_verification\"]"
   ]
  },
  {
   "cell_type": "code",
   "execution_count": 10,
   "metadata": {},
   "outputs": [
    {
     "data": {
      "text/plain": [
       "'用户\\n 示例：\\n 原始问题： 请介绍人类的起源与演化过程。\\n 原始答案： 人类是由猿人演变而来，经过数十万年的进化而成为现代人类。\\n 评估结果： ```  \\\\n #include <iostream> \\\\n using namespace std; \\\\n \\\\n int main() { \\\\n     string question = \"请介绍人类的起源与演化过程。\"; \\\\n     string answer = \"人类是由猿人演变而来，经过数十万年的进化而成为现代人类。\"; \\\\n \\\\n     // 准确性: 0 ~ 5 分 \\\\n     // 完整性: 0 ~ 5 分 \\\\n     // 逻辑性: 0 ~ 5 分 \\\\n     // 改进建议: 0 ~ 5 分 \\\\n     double accuracy = 3.0; \\\\n     double completeness = 3.0; \\\\n     double logic = 3.0; \\\\n     double improvement = 3.0; \\\\n \\\\n     cout << \"question:\" << question << endl; \\\\n     cout << \"answer:\" << answer << endl; \\\\n \\\\n     cout << \"accuracy:\" << accuracy << endl; \\\\n     cout << \"completeness:\" << completeness << endl; \\\\n     cout << \"logic:\" << logic << endl; \\\\n     cout << \"improvement:\" << improvement << endl; \\\\n \\\\n     return 0; \\\\n } ``` \\\\n \"\"\"\\n\\n\\n# include < iostream > \\\\n using namespace std; \\\\n \\\\n int main() { \\\\n     string question = \"请介绍人类的起源与演化过程。\"; \\\\n     string answer = \"人类是由猿人演变而来，经过数十万年的进化而成为现代人类。\"; \\\\n \\\\n     // 准确性: 0 ~ 5 分 \\\\n     // 完整性: 0 ~ 5 分 \\\\n     // 逻辑性: 0 ~ 5 分 \\\\n     // 改进建议: 0 ~ 5 分 \\\\n     double accuracy = 3.0; \\\\n     double completeness = 3.0; \\\\n     double logic = 3.0; \\\\n     double improvement = 3.0; \\\\n \\\\n     cout << \"question:\" << question << endl; \\\\n     cout << \"answer:\" << answer << endl; \\\\n \\\\n     cout << \"accuracy:\" << accuracy << endl; \\\\n     cout << \"completeness:\" << completeness << endl; \\\\n     cout << \"logic:\" << logic << endl; \\\\n     cout << \"improvement:\" << improvement << endl; \\\\n \\\\n     return 0; \\\\n } \"\"\"'"
      ]
     },
     "execution_count": 10,
     "metadata": {},
     "output_type": "execute_result"
    }
   ],
   "source": [
    "result[\"improved_answer\"]"
   ]
  },
  {
   "cell_type": "code",
   "execution_count": 12,
   "metadata": {},
   "outputs": [
    {
     "data": {
      "text/plain": [
       "'ユーザー\\n請參考以下範例，評估這個問答：\\n\\n\\n問題1：什麼是機器學習？\\n答案：機器學習是人工智慧的一個分支，它使用統計技術讓電腦系統能夠「學習」而不需明確編程。\\n\\n評估結果：\\n1. 準確度：答案基本正確，但缺少具體的學習方式\\n2. 完整度：答案不夠完整，未提及主要類型\\n3. 合理性：定義清楚，但缺乏展開\\n4. 改進建議：\\n   - 補充學習方式(監督/無監督)\\n   - 添加實際應用例子\\n   - 明確與深度學習的關係\\n\\n問題2：為什麼要保護環境？\\n答案：因為環境污染會危害人類健康，破壞生態平衡。\\n\\n評估結果：\\n1. 準確度：答案正確但過於簡單\\n2. 完整度：嚴重不足，未涉及多個方面\\n3. 合理性：因果關係正確但不夠深入\\n4. 改進建議：\\n   - 補充環境與發展的關係\\n   - 添加具體環境問題示例\\n   - 明確保護措施\\n   - 補充長期影響分析\\n\\n現在請評估：\\n問題：請解釋量子計算機的工作原理。\\n答案：用戶\\n 示例：\\n 原始問題： 請介紹人類的起源與演化過程。\\n 原始答案： 人類是由猿人演變而成，經過數十萬年的進化成為現代人類。\\n 評估結果： ```  \\\\n #include <iostream> \\\\n using namespace std; \\\\n \\\\n int main() { \\\\n     string question = \"請介紹人類的起源與演化過程。\"; \\\\n     string answer = \"人類是由猿人演變而成，經過數十萬年的進化成為現代人類。\"; \\\\n \\\\n     // 準確度: 0 ~ 5 分 \\\\n     // 完整度: 0 ~ 5 分 \\\\n     // 合理性: 0 ~ 5 分 \\\\n     // 改進建議: 0 ~ 5 分 \\\\n     double accuracy = 3.0; \\\\n     double completeness = 3.0; \\\\n     double logic = 3.0; \\\\n     double improvement = 3.0; \\\\n \\\\n     cout << \"question:\" << question << endl; \\\\n     cout <<'"
      ]
     },
     "execution_count": 12,
     "metadata": {},
     "output_type": "execute_result"
    }
   ],
   "source": [
    "result[\"final_verification\"]"
   ]
  },
  {
   "cell_type": "code",
   "execution_count": null,
   "metadata": {},
   "outputs": [],
   "source": []
  }
 ],
 "metadata": {
  "kernelspec": {
   "display_name": "Gemma",
   "language": "python",
   "name": "python3"
  },
  "language_info": {
   "codemirror_mode": {
    "name": "ipython",
    "version": 3
   },
   "file_extension": ".py",
   "mimetype": "text/x-python",
   "name": "python",
   "nbconvert_exporter": "python",
   "pygments_lexer": "ipython3",
   "version": "3.12.7"
  }
 },
 "nbformat": 4,
 "nbformat_minor": 2
}
