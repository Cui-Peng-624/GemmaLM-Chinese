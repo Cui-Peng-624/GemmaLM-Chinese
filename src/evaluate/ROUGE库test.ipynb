{
 "cells": [
  {
   "cell_type": "code",
   "execution_count": 4,
   "metadata": {},
   "outputs": [
    {
     "name": "stdout",
     "output_type": "stream",
     "text": [
      "{'rouge-1': {'r': 0.0, 'p': 0.0, 'f': 0.0}, 'rouge-2': {'r': 0.0, 'p': 0.0, 'f': 0.0}, 'rouge-l': {'r': 0.0, 'p': 0.0, 'f': 0.0}}\n"
     ]
    }
   ],
   "source": [
    "from rouge_chinese import Rouge\n",
    "\n",
    "rouge = Rouge()\n",
    "hypothesis = \"这是一个测试句子\"\n",
    "reference = \"这是另一个测试句子\"\n",
    "\n",
    "# 计算ROUGE分数\n",
    "scores = rouge.get_scores(hypothesis, reference)[0]\n",
    "\n",
    "# 输出结果包含：\n",
    "# - rouge-1: 单字级别的精确率、召回率和F1值\n",
    "# - rouge-2: 双字级别的精确率、召回率和F1值\n",
    "# - rouge-l: 最长公共子序列的精确率、召回率和F1值\n",
    "print(scores)"
   ]
  },
  {
   "cell_type": "code",
   "execution_count": 5,
   "metadata": {},
   "outputs": [
    {
     "name": "stdout",
     "output_type": "stream",
     "text": [
      "完全匹配的情况：\n",
      "{'rouge-1': {'r': 1.0, 'p': 1.0, 'f': 0.999999995}, 'rouge-2': {'r': 0.0, 'p': 0.0, 'f': 0.0}, 'rouge-l': {'r': 1.0, 'p': 1.0, 'f': 0.999999995}}\n",
      "\n",
      "部分匹配的情况：\n",
      "{'rouge-1': {'r': 0.0, 'p': 0.0, 'f': 0.0}, 'rouge-2': {'r': 0.0, 'p': 0.0, 'f': 0.0}, 'rouge-l': {'r': 0.0, 'p': 0.0, 'f': 0.0}}\n",
      "\n",
      "完全不匹配的情况：\n",
      "{'rouge-1': {'r': 0.0, 'p': 0.0, 'f': 0.0}, 'rouge-2': {'r': 0.0, 'p': 0.0, 'f': 0.0}, 'rouge-l': {'r': 0.0, 'p': 0.0, 'f': 0.0}}\n"
     ]
    }
   ],
   "source": [
    "from rouge_chinese import Rouge\n",
    "\n",
    "rouge = Rouge()\n",
    "\n",
    "# 示例1：完全相同的句子\n",
    "hypothesis1 = \"今天天气很好\"\n",
    "reference1 = \"今天天气很好\"\n",
    "scores1 = rouge.get_scores(hypothesis1, reference1)[0]\n",
    "print(\"完全匹配的情况：\")\n",
    "print(scores1)\n",
    "\n",
    "# 示例2：部分重叠的句子\n",
    "hypothesis2 = \"今天天气很好\"\n",
    "reference2 = \"今天天气不错\"\n",
    "scores2 = rouge.get_scores(hypothesis2, reference2)[0]\n",
    "print(\"\\n部分匹配的情况：\")\n",
    "print(scores2)\n",
    "\n",
    "# 示例3：完全不同的句子\n",
    "hypothesis3 = \"今天天气很好\"\n",
    "reference3 = \"明天会下雨\"\n",
    "scores3 = rouge.get_scores(hypothesis3, reference3)[0]\n",
    "print(\"\\n完全不匹配的情况：\")\n",
    "print(scores3)"
   ]
  },
  {
   "cell_type": "code",
   "execution_count": null,
   "metadata": {},
   "outputs": [],
   "source": []
  }
 ],
 "metadata": {
  "kernelspec": {
   "display_name": "Gemma",
   "language": "python",
   "name": "python3"
  },
  "language_info": {
   "codemirror_mode": {
    "name": "ipython",
    "version": 3
   },
   "file_extension": ".py",
   "mimetype": "text/x-python",
   "name": "python",
   "nbconvert_exporter": "python",
   "pygments_lexer": "ipython3",
   "version": "3.12.7"
  }
 },
 "nbformat": 4,
 "nbformat_minor": 2
}
