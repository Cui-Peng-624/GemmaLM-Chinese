{
 "cells": [
  {
   "cell_type": "code",
   "execution_count": 1,
   "metadata": {},
   "outputs": [],
   "source": [
    "# 这个模型将句子和段落映射到 512 维密集向量空间，可用于聚类或语义搜索等任务"
   ]
  },
  {
   "cell_type": "code",
   "execution_count": 2,
   "metadata": {},
   "outputs": [],
   "source": [
    "# AutoDL官方学术资源加速\n",
    "import subprocess\n",
    "import os\n",
    "\n",
    "result = subprocess.run('bash -c \"source /etc/network_turbo && env | grep proxy\"', shell=True, capture_output=True, text=True)\n",
    "output = result.stdout\n",
    "for line in output.splitlines():\n",
    "    if '=' in line:\n",
    "        var, value = line.split('=', 1)\n",
    "        os.environ[var] = value"
   ]
  },
  {
   "cell_type": "code",
   "execution_count": 3,
   "metadata": {},
   "outputs": [],
   "source": [
    "from sentence_transformers import SentenceTransformer\n",
    "import numpy as np\n",
    "from typing import List, Dict\n",
    "import torch"
   ]
  },
  {
   "cell_type": "code",
   "execution_count": 4,
   "metadata": {},
   "outputs": [],
   "source": [
    "class ChineseTextEvaluator:\n",
    "    def __init__(self, cache_dir=\"/root/autodl-tmp/sentence_transformers\"):\n",
    "        # 创建缓存目录（如果不存在）\n",
    "        os.makedirs(cache_dir, exist_ok=True)\n",
    "        \n",
    "        # 加载中文语义模型，指定缓存位置\n",
    "        self.model = SentenceTransformer(\n",
    "            'distiluse-base-multilingual-cased-v2',\n",
    "            cache_folder=cache_dir\n",
    "        )\n",
    "    \n",
    "    def semantic_similarity(self, text1: str, text2: str) -> float:\n",
    "        \"\"\"计算两段文本的语义相似度\"\"\"\n",
    "        # 获取文本的向量表示\n",
    "        embeddings = self.model.encode([text1, text2])\n",
    "        \n",
    "        # 计算余弦相似度\n",
    "        similarity = np.dot(embeddings[0], embeddings[1]) / (\n",
    "            np.linalg.norm(embeddings[0]) * np.linalg.norm(embeddings[1])\n",
    "        )\n",
    "        return float(similarity)\n",
    "    \n",
    "    def evaluate_response(self, hypothesis: str, reference: str) -> Dict:\n",
    "        \"\"\"评估生成的回答\"\"\"\n",
    "        semantic_score = self.semantic_similarity(hypothesis, reference)\n",
    "        \n",
    "        return {\n",
    "            'semantic_similarity': semantic_score,\n",
    "            'evaluation': {\n",
    "                'excellent': semantic_score >= 0.9,\n",
    "                'good': 0.7 <= semantic_score < 0.9,\n",
    "                'fair': 0.5 <= semantic_score < 0.7,\n",
    "                'poor': semantic_score < 0.5\n",
    "            }\n",
    "        }"
   ]
  },
  {
   "cell_type": "code",
   "execution_count": 5,
   "metadata": {},
   "outputs": [
    {
     "data": {
      "application/vnd.jupyter.widget-view+json": {
       "model_id": "2e2f58c60a2c4f27aee5275bd96fc098",
       "version_major": 2,
       "version_minor": 0
      },
      "text/plain": [
       "modules.json:   0%|          | 0.00/341 [00:00<?, ?B/s]"
      ]
     },
     "metadata": {},
     "output_type": "display_data"
    },
    {
     "data": {
      "application/vnd.jupyter.widget-view+json": {
       "model_id": "f0b0b82cd5dc44de9dd822455f04642c",
       "version_major": 2,
       "version_minor": 0
      },
      "text/plain": [
       "config_sentence_transformers.json:   0%|          | 0.00/122 [00:00<?, ?B/s]"
      ]
     },
     "metadata": {},
     "output_type": "display_data"
    },
    {
     "data": {
      "application/vnd.jupyter.widget-view+json": {
       "model_id": "566929a761a44801af78cb3a7f487fba",
       "version_major": 2,
       "version_minor": 0
      },
      "text/plain": [
       "README.md:   0%|          | 0.00/2.69k [00:00<?, ?B/s]"
      ]
     },
     "metadata": {},
     "output_type": "display_data"
    },
    {
     "data": {
      "application/vnd.jupyter.widget-view+json": {
       "model_id": "e6d78d94c2584a58955518ad8cbf1ecc",
       "version_major": 2,
       "version_minor": 0
      },
      "text/plain": [
       "sentence_bert_config.json:   0%|          | 0.00/53.0 [00:00<?, ?B/s]"
      ]
     },
     "metadata": {},
     "output_type": "display_data"
    },
    {
     "data": {
      "application/vnd.jupyter.widget-view+json": {
       "model_id": "de4aacba919e4927abad79b58b5232a7",
       "version_major": 2,
       "version_minor": 0
      },
      "text/plain": [
       "config.json:   0%|          | 0.00/610 [00:00<?, ?B/s]"
      ]
     },
     "metadata": {},
     "output_type": "display_data"
    },
    {
     "data": {
      "application/vnd.jupyter.widget-view+json": {
       "model_id": "f6cfb3bf5dbe410398f60a9fa88de067",
       "version_major": 2,
       "version_minor": 0
      },
      "text/plain": [
       "model.safetensors:   0%|          | 0.00/539M [00:00<?, ?B/s]"
      ]
     },
     "metadata": {},
     "output_type": "display_data"
    },
    {
     "data": {
      "application/vnd.jupyter.widget-view+json": {
       "model_id": "67b87e643a3645dab728be5bbfd18dcf",
       "version_major": 2,
       "version_minor": 0
      },
      "text/plain": [
       "tokenizer_config.json:   0%|          | 0.00/531 [00:00<?, ?B/s]"
      ]
     },
     "metadata": {},
     "output_type": "display_data"
    },
    {
     "data": {
      "application/vnd.jupyter.widget-view+json": {
       "model_id": "b027bf84224b4423b29cd2af0b93d784",
       "version_major": 2,
       "version_minor": 0
      },
      "text/plain": [
       "vocab.txt:   0%|          | 0.00/996k [00:00<?, ?B/s]"
      ]
     },
     "metadata": {},
     "output_type": "display_data"
    },
    {
     "data": {
      "application/vnd.jupyter.widget-view+json": {
       "model_id": "b7f6e3e719a942e4a46ed482e3d0742a",
       "version_major": 2,
       "version_minor": 0
      },
      "text/plain": [
       "tokenizer.json:   0%|          | 0.00/1.96M [00:00<?, ?B/s]"
      ]
     },
     "metadata": {},
     "output_type": "display_data"
    },
    {
     "data": {
      "application/vnd.jupyter.widget-view+json": {
       "model_id": "bc1e4a932c6e48ebad90b65751291a3c",
       "version_major": 2,
       "version_minor": 0
      },
      "text/plain": [
       "special_tokens_map.json:   0%|          | 0.00/112 [00:00<?, ?B/s]"
      ]
     },
     "metadata": {},
     "output_type": "display_data"
    },
    {
     "data": {
      "application/vnd.jupyter.widget-view+json": {
       "model_id": "ef9c4f4a8b9f4bf3857fdfed028fccda",
       "version_major": 2,
       "version_minor": 0
      },
      "text/plain": [
       "1_Pooling/config.json:   0%|          | 0.00/190 [00:00<?, ?B/s]"
      ]
     },
     "metadata": {},
     "output_type": "display_data"
    },
    {
     "data": {
      "application/vnd.jupyter.widget-view+json": {
       "model_id": "32225e30454e41d4b2b508b5cdcbcc3d",
       "version_major": 2,
       "version_minor": 0
      },
      "text/plain": [
       "model.safetensors:   0%|          | 0.00/1.58M [00:00<?, ?B/s]"
      ]
     },
     "metadata": {},
     "output_type": "display_data"
    },
    {
     "data": {
      "application/vnd.jupyter.widget-view+json": {
       "model_id": "d47ac8e356744bf6a6b0c65e6bbd8dd9",
       "version_major": 2,
       "version_minor": 0
      },
      "text/plain": [
       "pytorch_model.bin:   0%|          | 0.00/1.58M [00:00<?, ?B/s]"
      ]
     },
     "metadata": {},
     "output_type": "display_data"
    },
    {
     "data": {
      "application/vnd.jupyter.widget-view+json": {
       "model_id": "333f4b66f3c04d04a4325e8a9883b88b",
       "version_major": 2,
       "version_minor": 0
      },
      "text/plain": [
       "2_Dense/config.json:   0%|          | 0.00/114 [00:00<?, ?B/s]"
      ]
     },
     "metadata": {},
     "output_type": "display_data"
    }
   ],
   "source": [
    "# 使用示例\n",
    "evaluator = ChineseTextEvaluator()"
   ]
  },
  {
   "cell_type": "code",
   "execution_count": 6,
   "metadata": {},
   "outputs": [
    {
     "name": "stdout",
     "output_type": "stream",
     "text": [
      "\n",
      "测试类型：同义表达\n",
      "句子1：今天天气很好\n",
      "句子2：今天天气不错\n",
      "语义相似度：0.9875\n",
      "评估结果： excellent\n",
      "\n",
      "测试类型：类似含义\n",
      "句子1：这个问题很难\n",
      "句子2：这道题目特别困难\n",
      "语义相似度：0.8548\n",
      "评估结果： good\n",
      "\n",
      "测试类型：不同含义\n",
      "句子1：我喜欢吃苹果\n",
      "句子2：我讨厌吃香蕉\n",
      "语义相似度：0.6470\n",
      "评估结果： fair\n"
     ]
    }
   ],
   "source": [
    "# 测试相似表达\n",
    "examples = [\n",
    "    {\n",
    "        'hypothesis': '今天天气很好',\n",
    "        'reference': '今天天气不错',\n",
    "        'description': '同义表达'\n",
    "    },\n",
    "    {\n",
    "        'hypothesis': '这个问题很难',\n",
    "        'reference': '这道题目特别困难',\n",
    "        'description': '类似含义'\n",
    "    },\n",
    "    {\n",
    "        'hypothesis': '我喜欢吃苹果',\n",
    "        'reference': '我讨厌吃香蕉',\n",
    "        'description': '不同含义'\n",
    "    }\n",
    "]\n",
    "\n",
    "for example in examples:\n",
    "    result = evaluator.evaluate_response(example['hypothesis'], example['reference'])\n",
    "    print(f\"\\n测试类型：{example['description']}\")\n",
    "    print(f\"句子1：{example['hypothesis']}\")\n",
    "    print(f\"句子2：{example['reference']}\")\n",
    "    print(f\"语义相似度：{result['semantic_similarity']:.4f}\")\n",
    "    print(\"评估结果：\", end=\" \")\n",
    "    for level, is_level in result['evaluation'].items():\n",
    "        if is_level:\n",
    "            print(level)\n",
    "            break"
   ]
  },
  {
   "cell_type": "code",
   "execution_count": null,
   "metadata": {},
   "outputs": [],
   "source": []
  },
  {
   "cell_type": "code",
   "execution_count": null,
   "metadata": {},
   "outputs": [],
   "source": []
  },
  {
   "cell_type": "code",
   "execution_count": null,
   "metadata": {},
   "outputs": [],
   "source": []
  },
  {
   "cell_type": "code",
   "execution_count": null,
   "metadata": {},
   "outputs": [],
   "source": []
  }
 ],
 "metadata": {
  "kernelspec": {
   "display_name": "Gemma",
   "language": "python",
   "name": "python3"
  },
  "language_info": {
   "codemirror_mode": {
    "name": "ipython",
    "version": 3
   },
   "file_extension": ".py",
   "mimetype": "text/x-python",
   "name": "python",
   "nbconvert_exporter": "python",
   "pygments_lexer": "ipython3",
   "version": "3.12.7"
  }
 },
 "nbformat": 4,
 "nbformat_minor": 2
}
