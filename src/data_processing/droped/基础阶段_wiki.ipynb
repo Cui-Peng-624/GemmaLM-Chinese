{
 "cells": [
  {
   "cell_type": "code",
   "execution_count": 17,
   "metadata": {},
   "outputs": [],
   "source": [
    "# AutoDL官方学术资源加速\n",
    "import subprocess\n",
    "import os\n",
    "\n",
    "result = subprocess.run('bash -c \"source /etc/network_turbo && env | grep proxy\"', shell=True, capture_output=True, text=True)\n",
    "output = result.stdout\n",
    "for line in output.splitlines():\n",
    "    if '=' in line:\n",
    "        var, value = line.split('=', 1)\n",
    "        os.environ[var] = value"
   ]
  },
  {
   "cell_type": "code",
   "execution_count": 18,
   "metadata": {},
   "outputs": [],
   "source": [
    "from openai import OpenAI\n",
    "\n",
    "api_key = \"sk-XpXS3mBjka5gX86ZmE6YveGAZeSLkPJjNvJKd9AF23rF17P0\"\n",
    "api_base = \"https://api.zetatechs.com/v1\"\n",
    "client = OpenAI(api_key=api_key, base_url=api_base)\n",
    "\n",
    "# completion = client.chat.completions.create(\n",
    "#   model=\"gpt-4o-mini\",\n",
    "#   messages=[\n",
    "#     {\"role\": \"system\", \"content\": \"You are a helpful assistant.\"},\n",
    "#     {\"role\": \"user\", \"content\": \"Hello!\"}\n",
    "#   ]\n",
    "# )\n",
    "\n",
    "# print(completion.choices[0].message)"
   ]
  },
  {
   "cell_type": "code",
   "execution_count": 19,
   "metadata": {},
   "outputs": [
    {
     "name": "stdout",
     "output_type": "stream",
     "text": [
      "DatasetDict({\n",
      "    train: Dataset({\n",
      "        features: ['id', 'url', 'title', 'text'],\n",
      "        num_rows: 1384748\n",
      "    })\n",
      "})\n"
     ]
    }
   ],
   "source": [
    "from datasets import load_dataset\n",
    "\n",
    "# 加载维基百科数据集\n",
    "wiki_dataset = load_dataset(\n",
    "    'wikimedia/wikipedia', \n",
    "    '20231101.zh',\n",
    ")\n",
    "\n",
    "print(wiki_dataset)"
   ]
  },
  {
   "cell_type": "code",
   "execution_count": 20,
   "metadata": {},
   "outputs": [],
   "source": [
    "# print(type(wiki_dataset['train'][0]), type(wiki_dataset['train']), wiki_dataset['train'][0].keys())\n",
    "# print(type(wiki_dataset['train']), type(wiki_dataset['train']['text']))\n",
    "# print(len(wiki_dataset['train']['text']))"
   ]
  },
  {
   "cell_type": "code",
   "execution_count": null,
   "metadata": {},
   "outputs": [],
   "source": []
  },
  {
   "cell_type": "code",
   "execution_count": null,
   "metadata": {},
   "outputs": [],
   "source": []
  },
  {
   "cell_type": "code",
   "execution_count": 21,
   "metadata": {},
   "outputs": [],
   "source": [
    "# claude 给出的处理方式"
   ]
  },
  {
   "cell_type": "code",
   "execution_count": 22,
   "metadata": {},
   "outputs": [],
   "source": [
    "from openai import OpenAI\n",
    "import json\n",
    "from tqdm import tqdm\n",
    "import time\n",
    "from datasets import load_dataset\n",
    "import random"
   ]
  },
  {
   "cell_type": "code",
   "execution_count": 23,
   "metadata": {},
   "outputs": [],
   "source": [
    "def process_wiki_with_gpt(text, task_type): \n",
    "    \"\"\"\n",
    "    使用GPT处理维基百科文本\n",
    "    text 是wiki_dataset['train']['text'] 的元素。\n",
    "    task_type 是 'summary', 'qa', 'concept' 之一\n",
    "    \"\"\"\n",
    "    \n",
    "    # 针对不同任务类型的提示模板\n",
    "    # 过往版本储存在: \"基础阶段_早期的prompts.txt\"\n",
    "    # 版本七\n",
    "    prompts = {\n",
    "        \"summary\": \"\"\"请对以下维基百科文章进行总结。\n",
    "        你的输出必须是一个JSON格式，其中input字段必须是完整的原始文章内容，output字段是你的总结。\n",
    "        格式示例：\n",
    "        {\"instruction\": \"请总结以下内容：\", \"input\": \"<这里要填入完整的原始文章>\", \"output\": \"<这里是总结内容，使用普通文本格式>\"}\n",
    "\n",
    "        待总结的文章内容：\"\"\",\n",
    "                    \n",
    "        \"qa\": \"\"\"请基于以下维基百科文章生成1个高质量的问答对。\n",
    "        你的输出必须是一个JSON格式，必须严格遵循以下规则：\n",
    "        1. input字段可以包含背景信息和问题，或仅包含问题，格式可以是：\n",
    "        \"背景：<相关背景信息>\\n\\n问题：<具体问题>\"\n",
    "        或\n",
    "        \"问题：<具体问题>\"\n",
    "        或\n",
    "        \"<具体问题>\"\n",
    "        等\n",
    "        2. output字段仅包含问题的答案\n",
    "        3. instruction字段固定为\"请回答以下问题：\"\n",
    "\n",
    "        格式示例：\n",
    "        {\n",
    "            \"instruction\": \"请回答以下问题：\",\n",
    "            \"input\": \"背景：2008年奥运会在北京举办。\\n\\n问题：2008年北京奥运会的口号是什么？\",\n",
    "            \"output\": \"2008年北京奥运会的口号是'同一个世界，同一个梦想'。\"\n",
    "        }\n",
    "        或\n",
    "        {\n",
    "            \"instruction\": \"请回答以下问题：\",\n",
    "            \"input\": \"问题：2008年北京奥运会的口号是什么？\",\n",
    "            \"output\": \"2008年北京奥运会的口号是'同一个世界，同一个梦想'。\"\n",
    "        }\n",
    "        或\n",
    "        {\n",
    "            \"instruction\": \"请回答以下问题：\",\n",
    "            \"input\": \"2008年北京奥运会的口号是什么？\",\n",
    "            \"output\": \"2008年北京奥运会的口号是'同一个世界，同一个梦想'。\"\n",
    "        }\n",
    "\n",
    "        文章内容：\"\"\",\n",
    "                    \n",
    "        \"concept\": \"\"\"请从以下维基百科文章中提取一个关键概念并解释。\n",
    "        你的输出必须是一个JSON格式，必须严格遵循以下规则：\n",
    "        1. 从文章中识别最重要的一个概念或专有名词\n",
    "        2. input字段可以包含领域和概念名称，或仅包含概念名称，格式可以是：\n",
    "        \"在<领域>中，<概念名称>（指代范围或定义）需要解释。\"\n",
    "        或\n",
    "        \"请解释<概念名称>。\"\n",
    "        等\n",
    "        3. output字段必须包含该概念的详细解释，包括定义、特点、历史背景或应用等方面\n",
    "        4. instruction字段固定为\"请解释下列概念：\"\n",
    "\n",
    "        格式示例：\n",
    "        {\n",
    "            \"instruction\": \"请解释下列概念：\",\n",
    "            \"input\": \"在计算机科学中，递归（作为一种编程技术和算法策略）需要解释。\",\n",
    "            \"output\": \"递归是一种解决问题的方法，通过函数或算法调用自身来处理问题的更小实例。它具有以下特点：1. 基本情况（终止条件）；2. 递归情况（将问题分解为更小的子问题）；3. 调用栈的使用。递归在处理树结构、图遍历、分治算法等场景中广泛应用，是计算机科学中的基础概念。\"\n",
    "        }\n",
    "        或\n",
    "        {\n",
    "            \"instruction\": \"请解释下列概念：\",\n",
    "            \"input\": \"请解释什么是递归\",\n",
    "            \"output\": \"递归是一种解决问题的方法，通过函数或算法调用自身来处理问题的更小实例。它具有以下特点：1. 基本情况（终止条件）；2. 递归情况（将问题分解为更小的子问题）；3. 调用栈的使用。递归在处理树结构、图遍历、分治算法等场景中广泛应用，是计算机科学中的基础概念。\"\n",
    "        }\n",
    "        或{\n",
    "            \"instruction\": \"请解释下列概念：\",\n",
    "            \"input\": \"什么是递归?\",\n",
    "            \"output\": \"递归是一种解决问题的方法，通过函数或算法调用自身来处理问题的更小实例。它具有以下特点：1. 基本情况（终止条件）；2. 递归情况（将问题分解为更小的子问题）；3. 调用栈的使用。递归在处理树结构、图遍历、分治算法等场景中广泛应用，是计算机科学中的基础概念。\"\n",
    "        }\n",
    "\n",
    "        文章内容：\"\"\"\n",
    "    }\n",
    "\n",
    "\n",
    "    try:\n",
    "        response = client.chat.completions.create(\n",
    "            model=\"gpt-4o-mini\",  # 使用GPT-4以获得最好的效果\n",
    "            messages=[\n",
    "                {\"role\": \"system\", \"content\": \"你是一个专业的数据处理助手。请确保所有输出都是有效的JSON格式，使用双引号作为字符串定界符。\"},\n",
    "                {\"role\": \"user\", \"content\": f\"{prompts[task_type]} {text}\"}\n",
    "            ]\n",
    "        )\n",
    "        \n",
    "        # 添加错误处理和清理\n",
    "        content = response.choices[0].message.content.strip()\n",
    "        try:\n",
    "            result = json.loads(content)\n",
    "            result['type'] = f'wiki_{task_type}'\n",
    "            return result\n",
    "        except json.JSONDecodeError as e:\n",
    "            # 记录错误信息到文件\n",
    "            with open('error_log.txt', 'a', encoding='utf-8') as f:\n",
    "                f.write('\\n' + '='*50 + '\\n')  # 分隔符\n",
    "                f.write(f'时间: {time.strftime(\"%Y-%m-%d %H:%M:%S\")}\\n')\n",
    "                f.write(f'任务类型: {task_type}\\n')\n",
    "                f.write(f'错误类型: JSON解析错误\\n')\n",
    "                f.write(f'错误信息: {str(e)}\\n')\n",
    "                f.write(f'原始文本: {text[:200]}...\\n')  # 只记录前200个字符\n",
    "                f.write(f'API响应: {content}\\n')\n",
    "                f.write('='*50 + '\\n')\n",
    "            print(f\"JSON解析错误: {e}\")\n",
    "            return None\n",
    "    \n",
    "    except Exception as e:\n",
    "        # 记录其他类型的错误\n",
    "        with open('error_log.txt', 'a', encoding='utf-8') as f:\n",
    "            f.write('\\n' + '='*50 + '\\n')  # 分隔符\n",
    "            f.write(f'时间: {time.strftime(\"%Y-%m-%d %H:%M:%S\")}\\n')\n",
    "            f.write(f'任务类型: {task_type}\\n')\n",
    "            f.write(f'错误类型: {type(e).__name__}\\n')\n",
    "            f.write(f'错误信息: {str(e)}\\n')\n",
    "            f.write(f'原始文本: {text[:200]}...\\n')  # 只记录前200个字符\n",
    "            f.write('='*50 + '\\n')\n",
    "        print(f\"处理出错: {e}\")\n",
    "        return None\n",
    "\n",
    "def main():\n",
    "    # 加载维基百科数据集\n",
    "    wiki_dataset = load_dataset(\n",
    "        'wikimedia/wikipedia', \n",
    "        '20231101.zh',\n",
    "    )\n",
    "    \n",
    "    # 初始化结果列表\n",
    "    processed_data = []\n",
    "    \n",
    "    # 设置处理的样本数量\n",
    "    sample_size = 50000 + 1000  # 可以根据需要调整，适当增加，因为可能会处理失败\n",
    "    \n",
    "    # 随机采样数据\n",
    "    selected_texts = random.sample(wiki_dataset['train']['text'], sample_size) # 从 wiki_dataset['train']['text'] 中随机采样 sample_size 条数据\n",
    "    \n",
    "    # 任务类型列表\n",
    "    task_types = ['summary', 'qa', 'concept']\n",
    "    \n",
    "    # 处理数据\n",
    "    for text in tqdm(selected_texts, desc=\"处理维基百科数据\"): # selected_texts 是一个 list\n",
    "        if len(text) < 100:  # 跳过过短的文本\n",
    "            continue\n",
    "            \n",
    "        # 随机选择一个任务类型\n",
    "        task_type = random.choice(task_types)\n",
    "        \n",
    "        # 使用GPT处理文本\n",
    "        result = process_wiki_with_gpt(text[:2000], task_type)  # 限制输入长度\n",
    "        \n",
    "        if result: # 如果 result 不为 None，也即是处理成功\n",
    "            processed_data.append(result) # result 是一个 dict，processed_data 的结构类似：[{'type': 'wiki_summary', 'instruction': '请总结以下内容：', 'input': '原文内容', 'output': '总结内容'}, {}, ...]\n",
    "            \n",
    "        # 添加延时避免API限制\n",
    "        # time.sleep(1)\n",
    "        \n",
    "        # 每处理100条数据保存一次\n",
    "        if len(processed_data) % 10 == 0:\n",
    "            save_interim_results(processed_data)\n",
    "    \n",
    "    # 最终保存\n",
    "    save_final_results(processed_data)\n",
    "\n",
    "def save_interim_results(data, filename=\"wiki_processed_interim.json\"):\n",
    "    \"\"\"保存中间结果\"\"\"\n",
    "    with open(filename, 'w', encoding='utf-8') as f: # w 是覆写，a 是追加\n",
    "        json.dump(data, f, ensure_ascii=False, indent=2)\n",
    "\n",
    "def save_final_results(data, filename=\"wiki_processed_final.json\"):\n",
    "    \"\"\"保存最终结果\"\"\"\n",
    "    # 按任务类型分类统计\n",
    "    stats = {}\n",
    "    for item in data:\n",
    "        task_type = item['type']\n",
    "        stats[task_type] = stats.get(task_type, 0) + 1 # 从 stats 中获取 task_type 的值，如果 task_type 不存在，则返回 0，如果存在，则返回 task_type 的值并加 1\n",
    "    \n",
    "    print(\"\\n处理统计：\")\n",
    "    for task_type, count in stats.items():\n",
    "        print(f\"{task_type}: {count}条\")\n",
    "    \n",
    "    # 保存数据\n",
    "    with open(filename, 'w', encoding='utf-8') as f:\n",
    "        json.dump(data, f, ensure_ascii=False, indent=2)\n",
    "    print(f\"\\n数据已保存至 {filename}\")"
   ]
  },
  {
   "cell_type": "code",
   "execution_count": 24,
   "metadata": {},
   "outputs": [
    {
     "name": "stderr",
     "output_type": "stream",
     "text": [
      "处理维基百科数据:   0%|          | 3/51000 [00:14<61:56:04,  4.37s/it]"
     ]
    },
    {
     "name": "stdout",
     "output_type": "stream",
     "text": [
      "JSON解析错误: Invalid control character at: line 3 column 80 (char 112)\n"
     ]
    },
    {
     "name": "stderr",
     "output_type": "stream",
     "text": [
      "处理维基百科数据:   0%|          | 6/51000 [00:25<54:58:00,  3.88s/it]"
     ]
    },
    {
     "name": "stdout",
     "output_type": "stream",
     "text": [
      "JSON解析错误: Invalid control character at: line 3 column 55 (char 87)\n"
     ]
    },
    {
     "name": "stderr",
     "output_type": "stream",
     "text": [
      "处理维基百科数据:   0%|          | 9/51000 [00:35<44:59:09,  3.18s/it]"
     ]
    },
    {
     "name": "stdout",
     "output_type": "stream",
     "text": [
      "JSON解析错误: Invalid control character at: line 3 column 48 (char 80)\n"
     ]
    },
    {
     "name": "stderr",
     "output_type": "stream",
     "text": [
      "处理维基百科数据:   0%|          | 11/51000 [00:45<52:43:01,  3.72s/it]"
     ]
    },
    {
     "name": "stdout",
     "output_type": "stream",
     "text": [
      "JSON解析错误: Invalid control character at: line 3 column 126 (char 158)\n"
     ]
    },
    {
     "name": "stderr",
     "output_type": "stream",
     "text": [
      "处理维基百科数据:   0%|          | 24/51000 [01:32<42:07:25,  2.97s/it]"
     ]
    },
    {
     "name": "stdout",
     "output_type": "stream",
     "text": [
      "JSON解析错误: Invalid control character at: line 3 column 65 (char 97)\n"
     ]
    },
    {
     "name": "stderr",
     "output_type": "stream",
     "text": [
      "处理维基百科数据:   0%|          | 25/51000 [01:33<37:16:54,  2.63s/it]"
     ]
    },
    {
     "name": "stdout",
     "output_type": "stream",
     "text": [
      "JSON解析错误: Invalid control character at: line 3 column 62 (char 94)\n"
     ]
    },
    {
     "name": "stderr",
     "output_type": "stream",
     "text": [
      "处理维基百科数据:   0%|          | 29/51000 [01:47<42:25:49,  3.00s/it]"
     ]
    },
    {
     "name": "stdout",
     "output_type": "stream",
     "text": [
      "JSON解析错误: Invalid control character at: line 3 column 52 (char 84)\n"
     ]
    },
    {
     "name": "stderr",
     "output_type": "stream",
     "text": [
      "处理维基百科数据:   0%|          | 49/51000 [03:26<80:00:54,  5.65s/it] "
     ]
    }
   ],
   "source": [
    "if __name__ == \"__main__\":\n",
    "    main()"
   ]
  },
  {
   "cell_type": "code",
   "execution_count": null,
   "metadata": {},
   "outputs": [],
   "source": []
  },
  {
   "cell_type": "code",
   "execution_count": null,
   "metadata": {},
   "outputs": [],
   "source": []
  }
 ],
 "metadata": {
  "kernelspec": {
   "display_name": "Gemma",
   "language": "python",
   "name": "python3"
  },
  "language_info": {
   "codemirror_mode": {
    "name": "ipython",
    "version": 3
   },
   "file_extension": ".py",
   "mimetype": "text/x-python",
   "name": "python",
   "nbconvert_exporter": "python",
   "pygments_lexer": "ipython3",
   "version": "3.12.7"
  }
 },
 "nbformat": 4,
 "nbformat_minor": 2
}
